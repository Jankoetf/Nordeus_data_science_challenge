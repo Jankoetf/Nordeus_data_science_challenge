{
  "nbformat": 4,
  "nbformat_minor": 0,
  "metadata": {
    "colab": {
      "provenance": []
    },
    "kernelspec": {
      "name": "python3",
      "display_name": "Python 3"
    },
    "language_info": {
      "name": "python"
    }
  },
  "cells": [
    {
      "cell_type": "markdown",
      "source": [
        "# Import"
      ],
      "metadata": {
        "id": "6Lgby6nwzIAM"
      }
    },
    {
      "cell_type": "markdown",
      "source": [
        "**Importing the libraries**"
      ],
      "metadata": {
        "id": "betgVMWhx46s"
      }
    },
    {
      "cell_type": "code",
      "execution_count": 1,
      "metadata": {
        "id": "OwOr-JYvvdCY"
      },
      "outputs": [],
      "source": [
        "import numpy as np\n",
        "import matplotlib.pyplot as plt\n",
        "import pandas as pd\n",
        "import tensorflow as tf"
      ]
    },
    {
      "cell_type": "code",
      "source": [
        "%%capture\n",
        "# this is github gist URL, there are all functions and imports I need to reuse often across many notebooks\n",
        "!wget -O package.py https://gist.githubusercontent.com/Jankoetf/c36cc24ddd83d4194148a86f87efd397/raw/adf1e7c72dfe8db685ad936f8882d42ac85ae5b7/package1.py\n",
        "import package"
      ],
      "metadata": {
        "id": "XAUA-KmIni5_"
      },
      "execution_count": 3,
      "outputs": []
    },
    {
      "cell_type": "markdown",
      "source": [
        "**importing the datasets**"
      ],
      "metadata": {
        "id": "HNM0cdH2ycmM"
      }
    },
    {
      "cell_type": "code",
      "source": [
        "dataset = pd.read_csv('jobfair_train.csv')\n",
        "dataset = package.basic_preprocessing(dataset)\n",
        "dataset = package.Feature_Selection(dataset)\n",
        "dataset = package.Averaging_by_leagues(dataset)\n",
        "print(dataset.shape)"
      ],
      "metadata": {
        "id": "X38Un-Tlyjcl",
        "colab": {
          "base_uri": "https://localhost:8080/"
        },
        "outputId": "786dfbce-586a-4127-9b34-54aa595021b4"
      },
      "execution_count": 4,
      "outputs": [
        {
          "output_type": "stream",
          "name": "stdout",
          "text": [
            "(55314, 18)\n"
          ]
        }
      ]
    },
    {
      "cell_type": "markdown",
      "source": [
        "# **Regresional** Neural Network using sci-keras, **basic** aproach"
      ],
      "metadata": {
        "id": "79zGZCKij0j7"
      }
    },
    {
      "cell_type": "code",
      "source": [
        "y = dataset['league_rank'].iloc[:].values\n",
        "dataset = dataset.drop('league_rank', axis = 1)\n",
        "X = dataset.iloc[:, :].values\n",
        "\n",
        "print(y.shape)\n",
        "print(X.shape)"
      ],
      "metadata": {
        "colab": {
          "base_uri": "https://localhost:8080/"
        },
        "id": "VtrMBZHuirrO",
        "outputId": "b8810ee4-42f9-44b3-9a5f-75ae0c2542ab"
      },
      "execution_count": 4,
      "outputs": [
        {
          "output_type": "stream",
          "name": "stdout",
          "text": [
            "(55314,)\n",
            "(55314, 17)\n"
          ]
        }
      ]
    },
    {
      "cell_type": "markdown",
      "source": [
        "## Split, standardization"
      ],
      "metadata": {
        "id": "dKgb2Q1Cu3dl"
      }
    },
    {
      "cell_type": "code",
      "source": [
        "from sklearn.model_selection import train_test_split\n",
        "X_train, X_temp, y_train, y_temp = train_test_split(X, y, test_size=0.3, random_state=42)\n",
        "X_val, X_test, y_val, y_test = train_test_split(X_temp, y_temp, test_size=0.5, random_state=42)"
      ],
      "metadata": {
        "id": "I5m5-X5oqy52"
      },
      "execution_count": 9,
      "outputs": []
    },
    {
      "cell_type": "code",
      "source": [
        "from sklearn.preprocessing import StandardScaler\n",
        "sc = StandardScaler()\n",
        "X_train = sc.fit_transform(X_train)\n",
        "X_val = sc.transform(X_val)\n",
        "X_test = sc.transform(X_test)"
      ],
      "metadata": {
        "id": "0hGJtqaJq6am"
      },
      "execution_count": 10,
      "outputs": []
    },
    {
      "cell_type": "markdown",
      "source": [
        "## Creating a model"
      ],
      "metadata": {
        "id": "3BIGXrIRpP9W"
      }
    },
    {
      "cell_type": "code",
      "source": [
        "!pip install scikeras\n",
        "from scikeras.wrappers import KerasRegressor"
      ],
      "metadata": {
        "id": "adxy_9OMj4NQ"
      },
      "execution_count": null,
      "outputs": []
    },
    {
      "cell_type": "code",
      "source": [
        "from tensorflow.keras.models import Sequential\n",
        "from tensorflow.keras.layers import Dense, Dropout\n",
        "from tensorflow.keras.regularizers import l2\n",
        "import tensorflow as tf\n",
        "\n",
        "def create_model(n_layers=1, n_neurons=32, learning_rate=0.001, l2_reg=0.0001):\n",
        "    model = Sequential()\n",
        "    model.add(Dense(n_neurons, activation='relu', input_shape=(X_train.shape[1],), kernel_regularizer=l2(l2_reg)))\n",
        "    for _ in range(n_layers - 1):\n",
        "        model.add(Dense(n_neurons, activation='relu', kernel_regularizer=l2(l2_reg)))\n",
        "    model.add(Dense(1, activation='linear'))\n",
        "    model.compile(optimizer=tf.keras.optimizers.Adam(learning_rate=learning_rate), loss='mean_absolute_error', metrics=['mae'])\n",
        "    return model"
      ],
      "metadata": {
        "id": "jOHhD1I_kO10"
      },
      "execution_count": 19,
      "outputs": []
    },
    {
      "cell_type": "markdown",
      "source": [
        "## Early stopping"
      ],
      "metadata": {
        "id": "-8BrSWo3CFrO"
      }
    },
    {
      "cell_type": "code",
      "source": [
        "from tensorflow.keras.callbacks import EarlyStopping\n",
        "from sklearn.model_selection import GridSearchCV\n",
        "early_stopping = EarlyStopping(monitor='val_loss', patience=3, restore_best_weights=True)"
      ],
      "metadata": {
        "id": "uGfQDMpgCFI2"
      },
      "execution_count": 20,
      "outputs": []
    },
    {
      "cell_type": "markdown",
      "source": [
        "## Architecture hyperparameters tunning"
      ],
      "metadata": {
        "id": "nvfRwvLi-O4t"
      }
    },
    {
      "cell_type": "code",
      "source": [
        "early_stopping = EarlyStopping(monitor='val_loss', patience=3, restore_best_weights=True)\n",
        "model = KerasRegressor(model=create_model, epochs=25, batch_size=32, verbose=0, callbacks=[early_stopping])\n",
        "\n",
        "param_grid_architecture = {\n",
        "    'model__n_layers': [1, 2, 3],\n",
        "    'model__n_neurons': [6, 10, 14]\n",
        "}\n",
        "\n",
        "grid_architecture = GridSearchCV(estimator=model, param_grid=param_grid_architecture,scoring='neg_mean_absolute_error', cv=3, n_jobs=-1)\n",
        "grid_architecture.fit(X_train, y_train, validation_data=(X_val, y_val))"
      ],
      "metadata": {
        "id": "PYDfnJ3Gkcp1"
      },
      "execution_count": null,
      "outputs": []
    },
    {
      "cell_type": "code",
      "source": [
        "best_architecture = grid_architecture.best_params_\n",
        "print(best_architecture)\n",
        "best_accuracy = grid_architecture.best_score_\n",
        "print(best_accuracy)"
      ],
      "metadata": {
        "colab": {
          "base_uri": "https://localhost:8080/"
        },
        "outputId": "39c6ddc6-173c-4716-f802-41736d237d84",
        "id": "_9n4qCIplQDf"
      },
      "execution_count": 12,
      "outputs": [
        {
          "output_type": "stream",
          "name": "stdout",
          "text": [
            "{'model__n_layers': 3, 'model__n_neurons': 10}\n",
            "-1.94439122427821\n"
          ]
        }
      ]
    },
    {
      "cell_type": "markdown",
      "source": [
        "## Regularization hyperparameters tunning"
      ],
      "metadata": {
        "id": "26_EeZra-x2K"
      }
    },
    {
      "cell_type": "code",
      "source": [
        "param_grid_hyperparameters = {\n",
        "    #best architecture:\n",
        "    'model__n_layers': [3],\n",
        "    'model__n_neurons': [10],\n",
        "\n",
        "    #regularization\n",
        "    'model__learning_rate': [0.0001, 0.001, 0.01],\n",
        "    'model__l2_reg': [0.0001, 0.001, 0.01]\n",
        "}"
      ],
      "metadata": {
        "id": "vqayPVPN-uRJ"
      },
      "execution_count": 13,
      "outputs": []
    },
    {
      "cell_type": "code",
      "source": [
        "model = KerasRegressor(model=create_model, epochs=25, batch_size=32, verbose=0, callbacks=[early_stopping])\n",
        "\n",
        "grid_hyperparameters = GridSearchCV(estimator=model, param_grid=param_grid_hyperparameters,scoring='neg_mean_absolute_error', cv=3, n_jobs=-1)\n",
        "grid_hyperparameters_result = grid_hyperparameters.fit(X_train, y_train, validation_data=(X_val, y_val))"
      ],
      "metadata": {
        "id": "s7BzpYgU-udq"
      },
      "execution_count": 14,
      "outputs": []
    },
    {
      "cell_type": "code",
      "source": [
        "best_regularizers = grid_hyperparameters_result.best_params_\n",
        "print(best_regularizers)\n",
        "best_accuracy = grid_hyperparameters_result.best_score_\n",
        "print(best_accuracy)"
      ],
      "metadata": {
        "colab": {
          "base_uri": "https://localhost:8080/"
        },
        "id": "fLc13OOm-uhD",
        "outputId": "5a190c72-d261-4809-a388-143bddbcfef8"
      },
      "execution_count": 17,
      "outputs": [
        {
          "output_type": "stream",
          "name": "stdout",
          "text": [
            "{'model__l2_reg': 0.0001, 'model__learning_rate': 0.001, 'model__n_layers': 3, 'model__n_neurons': 10}\n",
            "-1.9406360184295657\n"
          ]
        }
      ]
    },
    {
      "cell_type": "markdown",
      "source": [
        "## Fune tunning"
      ],
      "metadata": {
        "id": "5EouRHdrU5kQ"
      }
    },
    {
      "cell_type": "code",
      "source": [
        "param_grid_fine = {\n",
        "    #best architecture:\n",
        "    'model__n_layers': [3],\n",
        "    'model__n_neurons': [10],\n",
        "\n",
        "    #regularization\n",
        "    'model__learning_rate': [0.001],\n",
        "    'model__l2_reg': [0.0001],\n",
        "    'batch_size': [14, 16, 24, 32]\n",
        "}"
      ],
      "metadata": {
        "id": "2Qnn4ZexU7mb"
      },
      "execution_count": 18,
      "outputs": []
    },
    {
      "cell_type": "code",
      "source": [
        "model = KerasRegressor(model=create_model, epochs=25, batch_size=32, verbose=0, callbacks=[early_stopping])\n",
        "\n",
        "grid_fine = GridSearchCV(estimator=model, param_grid=param_grid_fine,scoring='neg_mean_absolute_error', cv=3, n_jobs=-1)\n",
        "grid_fine_result = grid_fine.fit(X_train, y_train, validation_data=(X_val, y_val))"
      ],
      "metadata": {
        "id": "Z6m4IJ7RWSrM"
      },
      "execution_count": 19,
      "outputs": []
    },
    {
      "cell_type": "code",
      "source": [
        "best_fine = grid_fine_result.best_params_\n",
        "print(best_fine)\n",
        "best_accuracy = grid_fine_result.best_score_\n",
        "print(best_accuracy)"
      ],
      "metadata": {
        "colab": {
          "base_uri": "https://localhost:8080/"
        },
        "outputId": "1d8bdec7-72c6-490c-db28-8e1858c7fad8",
        "id": "GrFNbUBPWSrX"
      },
      "execution_count": 20,
      "outputs": [
        {
          "output_type": "stream",
          "name": "stdout",
          "text": [
            "{'batch_size': 24, 'model__l2_reg': 0.0001, 'model__learning_rate': 0.001, 'model__n_layers': 3, 'model__n_neurons': 10}\n",
            "-1.9503732110311371\n"
          ]
        }
      ]
    },
    {
      "cell_type": "markdown",
      "source": [
        "## testing"
      ],
      "metadata": {
        "id": "vM5DIirJdjFT"
      }
    },
    {
      "cell_type": "code",
      "source": [
        "#creating best model again for testing\n",
        "best_model = Sequential()\n",
        "best_model.add(Dense(10, activation='relu', input_shape=(X_train.shape[1],), kernel_regularizer=l2(0.0001)))\n",
        "best_model.add(Dense(10, activation='relu', kernel_regularizer=l2(0.0001)))\n",
        "best_model.add(Dense(10, activation='relu', kernel_regularizer=l2(0.0001)))\n",
        "best_model.add(Dense(1, activation='linear'))\n",
        "best_model.compile(optimizer=tf.keras.optimizers.Adam(learning_rate=0.001), loss='mean_absolute_error', metrics=['mae'])"
      ],
      "metadata": {
        "id": "YQUzBJvJdmw0"
      },
      "execution_count": 21,
      "outputs": []
    },
    {
      "cell_type": "code",
      "source": [
        "best_model.fit(X_train, y_train, batch_size = 24, epochs = 25, \\\n",
        "        validation_data=(X_val, y_val), callbacks=[early_stopping])"
      ],
      "metadata": {
        "id": "GFv7v2rGfLdM"
      },
      "execution_count": null,
      "outputs": []
    },
    {
      "cell_type": "code",
      "source": [
        "raw_predictions_train = best_model.predict(X_train)\n",
        "raw_predictions_val = best_model.predict(X_val)\n",
        "raw_predictions_test = best_model.predict(X_test)"
      ],
      "metadata": {
        "id": "YlYCHZHnhjTp"
      },
      "execution_count": null,
      "outputs": []
    },
    {
      "cell_type": "code",
      "source": [
        "from sklearn.metrics import mean_absolute_error\n",
        "print(\"train\")\n",
        "mae_train = mean_absolute_error(y_train, raw_predictions_train)\n",
        "print(f\"Mean Absolute Error - predictions - val set: {mae_train}\")\n",
        "print(\"val\")\n",
        "mae_val = mean_absolute_error(y_val, raw_predictions_val)\n",
        "print(f\"Mean Absolute Error - predictions - val set: {mae_val}\")\n",
        "print(\"test\")\n",
        "mae_test = mean_absolute_error(y_test, raw_predictions_test)\n",
        "print(f\"Mean Absolute Error - predictions - val set: {mae_test}\")"
      ],
      "metadata": {
        "colab": {
          "base_uri": "https://localhost:8080/"
        },
        "id": "dWwRuHWjhjTq",
        "outputId": "5de57b86-80f7-4431-dcad-4b20760e8c42"
      },
      "execution_count": 14,
      "outputs": [
        {
          "output_type": "stream",
          "name": "stdout",
          "text": [
            "train\n",
            "Mean Absolute Error - predictions - val set: 1.9397284713035656\n",
            "val\n",
            "Mean Absolute Error - predictions - val set: 1.9655652811861446\n",
            "test\n",
            "Mean Absolute Error - predictions - val set: 1.9843720348664553\n"
          ]
        }
      ]
    },
    {
      "cell_type": "code",
      "source": [
        "predictions_train = package.post_processing_1(raw_predictions_train)\n",
        "predictions_val = package.post_processing_1(raw_predictions_val)\n",
        "predictions_test = package.post_processing_1(raw_predictions_test)"
      ],
      "metadata": {
        "id": "_qgNYKOyvvb9"
      },
      "execution_count": 15,
      "outputs": []
    },
    {
      "cell_type": "code",
      "source": [
        "from sklearn.metrics import mean_absolute_error\n",
        "print(\"train\")\n",
        "mae_train = mean_absolute_error(y_train, predictions_train)\n",
        "print(f\"Mean Absolute Error - predictions - val set: {mae_train}\")\n",
        "print(\"val\")\n",
        "mae_val = mean_absolute_error(y_val, predictions_val)\n",
        "print(f\"Mean Absolute Error - predictions - val set: {mae_val}\")\n",
        "print(\"test\")\n",
        "mae_test = mean_absolute_error(y_test, predictions_test)\n",
        "print(f\"Mean Absolute Error - predictions - val set: {mae_test}\")"
      ],
      "metadata": {
        "colab": {
          "base_uri": "https://localhost:8080/"
        },
        "id": "caWtNeY7vvb-",
        "outputId": "8ca3e71a-c641-4c7e-9957-a8bca63182e2"
      },
      "execution_count": 16,
      "outputs": [
        {
          "output_type": "stream",
          "name": "stdout",
          "text": [
            "train\n",
            "Mean Absolute Error - predictions - val set: 1.919780986079186\n",
            "val\n",
            "Mean Absolute Error - predictions - val set: 1.948415089791491\n",
            "test\n",
            "Mean Absolute Error - predictions - val set: 1.963364666184623\n"
          ]
        }
      ]
    },
    {
      "cell_type": "markdown",
      "source": [
        "After tunning hyperparameters average MAE is around 1.95."
      ],
      "metadata": {
        "id": "8BW7xPxDvi1r"
      }
    },
    {
      "cell_type": "markdown",
      "source": [
        "# **Regresional** Neural Network using sci-keras, **adapted** aproach"
      ],
      "metadata": {
        "id": "gaDughxyu_nj"
      }
    },
    {
      "cell_type": "code",
      "source": [
        "'''import'''\n",
        "dataset = pd.read_csv('jobfair_train.csv')\n",
        "\n",
        "'''sorting'''\n",
        "dataset = dataset.sort_values(by='league_id')\n",
        "\n",
        "'''preprocesing'''\n",
        "dataset = package.basic_preprocessing(dataset)\n",
        "dataset = package.Feature_Selection(dataset)\n",
        "dataset = package.Averaging_by_leagues(dataset)\n",
        "print(dataset.shape)"
      ],
      "metadata": {
        "colab": {
          "base_uri": "https://localhost:8080/"
        },
        "id": "-QUqoBP_sJDz",
        "outputId": "4372cc2d-f034-477a-922f-02f0a02f7bbb"
      },
      "execution_count": 9,
      "outputs": [
        {
          "output_type": "stream",
          "name": "stdout",
          "text": [
            "(55314, 18)\n"
          ]
        }
      ]
    },
    {
      "cell_type": "code",
      "source": [
        "X_train, y_train, X_val, y_val, X_test, y_test = package.train_val_test_split_adapted_shuffled(dataset)"
      ],
      "metadata": {
        "id": "Q9VmVvCb1KmM"
      },
      "execution_count": 10,
      "outputs": []
    },
    {
      "cell_type": "code",
      "source": [
        "from sklearn.preprocessing import StandardScaler\n",
        "sc = StandardScaler()\n",
        "X_train_scaled = sc.fit_transform(X_train)\n",
        "X_val_scaled = sc.transform(X_val)\n",
        "X_test_scaled = sc.transform(X_test)"
      ],
      "metadata": {
        "id": "RVufApmH1KmM"
      },
      "execution_count": 11,
      "outputs": []
    },
    {
      "cell_type": "markdown",
      "source": [
        "## Tuning hyperparameters"
      ],
      "metadata": {
        "id": "UGk9GHNmnnZR"
      }
    },
    {
      "cell_type": "code",
      "source": [
        "from sklearn.metrics import mean_absolute_error\n",
        "def evaluate_network(model, X_val_test, y_true, verbose = 0):\n",
        "    y_pred = model.predict(X_val_test)\n",
        "    y_pred_sorted = package.post_processing_1(y_pred)\n",
        "\n",
        "    mae_val_test = mean_absolute_error(y_true, y_pred)\n",
        "    mae_val_test_sorted = mean_absolute_error(y_true, y_pred_sorted)\n",
        "    if verbose:\n",
        "        print(f\"Mean Absolute Error - predictions: {mae_val_test}\")\n",
        "        print(f\"Mean Absolute Error - sorted prediction: {mae_val_test_sorted}\")\n",
        "    else:\n",
        "        return mae_val_test, mae_val_test_sorted"
      ],
      "metadata": {
        "id": "A8_aus72YQuP"
      },
      "execution_count": 29,
      "outputs": []
    },
    {
      "cell_type": "code",
      "source": [
        "n_layers_values = [2,3,4]\n",
        "m_neurons_in_layer = [6,8,10,12]\n",
        "learning_rate_values = [0.0001,0.001,0.01]\n",
        "\n",
        "params = {}\n",
        "params_processed = {}\n",
        "for lr in learning_rate_values:\n",
        "    for n in n_layers_values:\n",
        "        for m in m_neurons_in_layer:\n",
        "            model = create_model(n_layers=n, n_neurons=m, learning_rate=lr, l2_reg=0.0001)\n",
        "            model.fit(X_train_scaled, y_train, batch_size = 14, epochs = 25, validation_data=(X_val_scaled, y_val), callbacks=[early_stopping])\n",
        "            t_val, t_val_sorted = evaluate_network(model, X_val_scaled, y_val, 0)\n",
        "            t_test, t_test_sorted = evaluate_network(model, X_test_scaled, y_test, 0)\n",
        "            params[(lr, n, m)] =  (t_val + t_test)/2\n",
        "            params_processed[(lr, n, m)] =  (t_val_sorted + t_test_sorted)/2\n",
        "\n",
        "params = dict(sorted(params.items(), key=lambda item: item[1], reverse=False))\n",
        "params_sorted = dict(sorted(params_processed.items(), key=lambda item: item[1], reverse=False))"
      ],
      "metadata": {
        "id": "PDY09wlS3Ce_"
      },
      "execution_count": null,
      "outputs": []
    },
    {
      "cell_type": "code",
      "source": [
        "print(list(params.keys())[:3])\n",
        "print(list(params_sorted.keys())[:3])\n",
        "print(list(params.values())[:3])\n",
        "print(list(params_sorted.values())[:3])"
      ],
      "metadata": {
        "colab": {
          "base_uri": "https://localhost:8080/"
        },
        "id": "9PDU4OvtH_xJ",
        "outputId": "848c57ec-726b-4f1c-b9cd-e8b59680b0bb"
      },
      "execution_count": 41,
      "outputs": [
        {
          "output_type": "stream",
          "name": "stdout",
          "text": [
            "[(0.001, 3, 10), (0.001, 4, 10), (0.001, 3, 12)]\n",
            "[(0.001, 3, 10), (0.001, 4, 10), (0.001, 4, 12)]\n",
            "[1.9249524989016509, 1.926768621165516, 1.931922293720591]\n",
            "[1.907652195003638, 1.9083798205190394, 1.9137157409653165]\n"
          ]
        }
      ]
    },
    {
      "cell_type": "markdown",
      "source": [
        "## Testing"
      ],
      "metadata": {
        "id": "89KKEbCb36cF"
      }
    },
    {
      "cell_type": "code",
      "source": [
        "'''import'''\n",
        "dataset = pd.read_csv('jobfair_train.csv')\n",
        "\n",
        "'''sorting'''\n",
        "dataset = dataset.sort_values(by='league_id')\n",
        "\n",
        "'''preprocesing'''\n",
        "dataset = package.basic_preprocessing(dataset)\n",
        "dataset = package.Feature_Selection(dataset)\n",
        "dataset = package.Averaging_by_leagues(dataset)\n",
        "print(dataset.shape)"
      ],
      "metadata": {
        "colab": {
          "base_uri": "https://localhost:8080/"
        },
        "outputId": "7110dfe1-b684-4af5-fc74-7036eaf06946",
        "id": "xGGRCi8k4EqS"
      },
      "execution_count": 26,
      "outputs": [
        {
          "output_type": "stream",
          "name": "stdout",
          "text": [
            "(55314, 18)\n"
          ]
        }
      ]
    },
    {
      "cell_type": "code",
      "source": [
        "X_train, y_train, X_val, y_val, X_test, y_test = package.train_val_test_split_adapted_shuffled(dataset)"
      ],
      "metadata": {
        "id": "fyC90gq24EqT"
      },
      "execution_count": 39,
      "outputs": []
    },
    {
      "cell_type": "code",
      "source": [
        "from sklearn.preprocessing import StandardScaler\n",
        "sc = StandardScaler()\n",
        "X_train_scaled = sc.fit_transform(X_train)\n",
        "X_val_scaled = sc.transform(X_val)\n",
        "X_test_scaled = sc.transform(X_test)"
      ],
      "metadata": {
        "id": "YGwQWy7p4EqT"
      },
      "execution_count": 40,
      "outputs": []
    },
    {
      "cell_type": "code",
      "source": [
        "best_model = Sequential()\n",
        "best_model.add(Dense(10, activation='relu', input_shape=(X_train_scaled.shape[1],), kernel_regularizer=l2(0.0001)))\n",
        "best_model.add(Dense(10, activation='relu', kernel_regularizer=l2(0.0001)))\n",
        "best_model.add(Dense(10, activation='relu', kernel_regularizer=l2(0.0001)))\n",
        "best_model.add(Dense(1, activation='linear'))\n",
        "best_model.compile(optimizer=tf.keras.optimizers.Adam(learning_rate=0.001), loss='mean_absolute_error', metrics=['mae'])"
      ],
      "metadata": {
        "id": "3R7O4MKfMpsG"
      },
      "execution_count": 41,
      "outputs": []
    },
    {
      "cell_type": "code",
      "source": [
        "best_model.fit(X_train_scaled, y_train, batch_size = 14, epochs = 25, \\\n",
        "        validation_data=(X_val_scaled, y_val), callbacks=[early_stopping])"
      ],
      "metadata": {
        "id": "9PKQDWxkMpsN"
      },
      "execution_count": null,
      "outputs": []
    },
    {
      "cell_type": "code",
      "source": [
        "raw_predictions_train = best_model.predict(X_train_scaled)\n",
        "raw_predictions_val = best_model.predict(X_val_scaled)\n",
        "raw_predictions_test = best_model.predict(X_test_scaled)"
      ],
      "metadata": {
        "id": "IsNK0F_ZxiVZ"
      },
      "execution_count": null,
      "outputs": []
    },
    {
      "cell_type": "code",
      "source": [
        "from sklearn.metrics import mean_absolute_error\n",
        "print(\"train\")\n",
        "mae_train = mean_absolute_error(y_train, raw_predictions_train)\n",
        "print(f\"Mean Absolute Error - predictions - val set: {mae_train}\")\n",
        "print(\"val\")\n",
        "mae_val = mean_absolute_error(y_val, raw_predictions_val)\n",
        "print(f\"Mean Absolute Error - predictions - val set: {mae_val}\")\n",
        "print(\"test\")\n",
        "mae_test = mean_absolute_error(y_test, raw_predictions_test)\n",
        "print(f\"Mean Absolute Error - predictions - val set: {mae_test}\")"
      ],
      "metadata": {
        "colab": {
          "base_uri": "https://localhost:8080/"
        },
        "outputId": "a1bcf937-a419-4b52-e08e-fdcf173293ad",
        "id": "PVl6aV2CxiVZ"
      },
      "execution_count": 51,
      "outputs": [
        {
          "output_type": "stream",
          "name": "stdout",
          "text": [
            "train\n",
            "Mean Absolute Error - predictions - val set: 1.941983819287729\n",
            "val\n",
            "Mean Absolute Error - predictions - val set: 1.9330077300783053\n",
            "test\n",
            "Mean Absolute Error - predictions - val set: 1.9464478289764189\n"
          ]
        }
      ]
    },
    {
      "cell_type": "markdown",
      "source": [
        "**Postprocessing**"
      ],
      "metadata": {
        "id": "r4lqSFiywEIl"
      }
    },
    {
      "cell_type": "code",
      "source": [
        "predictions_train = package.post_processing_1(raw_predictions_train)\n",
        "predictions_val = package.post_processing_1(raw_predictions_val)\n",
        "predictions_test = package.post_processing_1(raw_predictions_test)"
      ],
      "metadata": {
        "id": "hE1OLVLzxvSv"
      },
      "execution_count": 52,
      "outputs": []
    },
    {
      "cell_type": "code",
      "source": [
        "from sklearn.metrics import mean_absolute_error\n",
        "print(\"train - sorted\")\n",
        "mae_train = mean_absolute_error(y_train, predictions_train)\n",
        "print(f\"Mean Absolute Error - predictions - val set: {mae_train}\")\n",
        "print(\"val - sorted\")\n",
        "mae_val = mean_absolute_error(y_val, predictions_val)\n",
        "print(f\"Mean Absolute Error - predictions - val set: {mae_val}\")\n",
        "print(\"test - sorted\")\n",
        "mae_test = mean_absolute_error(y_test, predictions_test)\n",
        "print(f\"Mean Absolute Error - predictions - val set: {mae_test}\")"
      ],
      "metadata": {
        "colab": {
          "base_uri": "https://localhost:8080/"
        },
        "id": "jnpGWxzkyYVm",
        "outputId": "99e93c4d-5841-4669-b5c1-e0dfe806388b"
      },
      "execution_count": 53,
      "outputs": [
        {
          "output_type": "stream",
          "name": "stdout",
          "text": [
            "train - sorted\n",
            "Mean Absolute Error - predictions - val set: 1.9236453201970443\n",
            "val - sorted\n",
            "Mean Absolute Error - predictions - val set: 1.9198482932996208\n",
            "test - sorted\n",
            "Mean Absolute Error - predictions - val set: 1.9271476032273374\n"
          ]
        }
      ]
    },
    {
      "cell_type": "markdown",
      "source": [
        "This way MAE is around 1.91 - 1.92"
      ],
      "metadata": {
        "id": "vL4ENkqLPfUj"
      }
    }
  ]
}