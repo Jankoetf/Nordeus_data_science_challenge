{
  "nbformat": 4,
  "nbformat_minor": 0,
  "metadata": {
    "colab": {
      "provenance": []
    },
    "kernelspec": {
      "name": "python3",
      "display_name": "Python 3"
    },
    "language_info": {
      "name": "python"
    }
  },
  "cells": [
    {
      "cell_type": "code",
      "execution_count": 1,
      "metadata": {
        "id": "Ee4EQrO3F0Oh"
      },
      "outputs": [],
      "source": [
        "import numpy as np\n",
        "import matplotlib.pyplot as plt\n",
        "import pandas as pd\n",
        "import tensorflow as tf"
      ]
    },
    {
      "cell_type": "code",
      "source": [
        "%%capture\n",
        "# this is github gist URL, there are all functions and imports I need to reuse often across many notebooks\n",
        "!wget -O package.py https://gist.githubusercontent.com/Jankoetf/c36cc24ddd83d4194148a86f87efd397/raw/1cedbb723936bf2dd1512b51ce9fee88edc7122e/package1.py\n",
        "import package"
      ],
      "metadata": {
        "id": "XAUA-KmIni5_"
      },
      "execution_count": 2,
      "outputs": []
    },
    {
      "cell_type": "code",
      "source": [
        "'''import'''\n",
        "dataset = pd.read_csv('jobfair_train.csv')\n",
        "test_set = pd.read_csv('jobfair_test.csv')\n",
        "\n",
        "\n",
        "'''sorting'''\n",
        "dataset = dataset.sort_values(by='league_id')\n",
        "clubs = test_set['club_id']\n",
        "#dataset = dataset.sort_values(by='league_id')\n",
        "\n",
        "'''preprocesing'''\n",
        "dataset = package.basic_preprocessing(dataset)\n",
        "dataset = package.Feature_Selection(dataset)\n",
        "dataset = package.Averaging_by_leagues(dataset)\n",
        "\n",
        "test_set = package.basic_preprocessing(test_set)\n",
        "test_set = package.Feature_Selection(test_set)\n",
        "test_set = package.Averaging_by_leagues(test_set)\n",
        "\n",
        "print(dataset.shape)\n",
        "print(test_set.shape)"
      ],
      "metadata": {
        "colab": {
          "base_uri": "https://localhost:8080/"
        },
        "outputId": "8d99381a-8406-4266-9145-25ca38e086f2",
        "id": "xGGRCi8k4EqS"
      },
      "execution_count": 28,
      "outputs": [
        {
          "output_type": "stream",
          "name": "stdout",
          "text": [
            "(55314, 18)\n",
            "(60270, 17)\n"
          ]
        }
      ]
    },
    {
      "cell_type": "markdown",
      "source": [
        "# Prediction"
      ],
      "metadata": {
        "id": "ZejmB8tHBgKt"
      }
    },
    {
      "cell_type": "code",
      "source": [
        "X_train, y_train, X_val, y_val, X_test, y_test = package.train_val_test_split_adapted_shuffled(dataset)"
      ],
      "metadata": {
        "id": "fyC90gq24EqT"
      },
      "execution_count": 5,
      "outputs": []
    },
    {
      "cell_type": "code",
      "source": [
        "from sklearn.preprocessing import StandardScaler\n",
        "from tensorflow.keras.models import Sequential\n",
        "from tensorflow.keras.layers import Dense, Dropout\n",
        "from tensorflow.keras.regularizers import l2\n",
        "import tensorflow as tf\n",
        "sc = StandardScaler()\n",
        "X_train_scaled = sc.fit_transform(X_train)\n",
        "X_val_scaled = sc.transform(X_val)"
      ],
      "metadata": {
        "id": "YGwQWy7p4EqT"
      },
      "execution_count": 6,
      "outputs": []
    },
    {
      "cell_type": "code",
      "source": [
        "X_test_scaled = sc.transform(test_set.iloc[:,:].values)\n",
        "print(X_test_scaled.shape)"
      ],
      "metadata": {
        "colab": {
          "base_uri": "https://localhost:8080/"
        },
        "id": "PyC52gdi-Io2",
        "outputId": "c70921b6-0d92-4771-9545-52bab143040e"
      },
      "execution_count": 13,
      "outputs": [
        {
          "output_type": "stream",
          "name": "stdout",
          "text": [
            "(60270, 17)\n"
          ]
        }
      ]
    },
    {
      "cell_type": "code",
      "source": [
        "best_model = Sequential()\n",
        "best_model.add(Dense(10, activation='relu', input_shape=(X_train_scaled.shape[1],), kernel_regularizer=l2(0.0001)))\n",
        "best_model.add(Dense(10, activation='relu', kernel_regularizer=l2(0.0001)))\n",
        "best_model.add(Dense(10, activation='relu', kernel_regularizer=l2(0.0001)))\n",
        "best_model.add(Dense(1, activation='linear'))\n",
        "best_model.compile(optimizer=tf.keras.optimizers.Adam(learning_rate=0.001), loss='mean_absolute_error', metrics=['mae'])"
      ],
      "metadata": {
        "id": "3R7O4MKfMpsG"
      },
      "execution_count": 7,
      "outputs": []
    },
    {
      "cell_type": "code",
      "source": [
        "from tensorflow.keras.callbacks import EarlyStopping\n",
        "early_stopping = EarlyStopping(monitor='val_loss', patience=3, restore_best_weights=True)\n",
        "\n",
        "best_model.fit(X_train_scaled, y_train, batch_size = 14, epochs = 25, \\\n",
        "        validation_data=(X_val_scaled, y_val), callbacks=[early_stopping])"
      ],
      "metadata": {
        "id": "9PKQDWxkMpsN"
      },
      "execution_count": null,
      "outputs": []
    },
    {
      "cell_type": "markdown",
      "source": [
        "**Postprocessing**"
      ],
      "metadata": {
        "id": "r4lqSFiywEIl"
      }
    },
    {
      "cell_type": "code",
      "source": [
        "raw_predictions_test = best_model.predict(X_test_scaled)\n",
        "predictions_test = package.post_processing_1(raw_predictions_test)"
      ],
      "metadata": {
        "id": "IsNK0F_ZxiVZ",
        "colab": {
          "base_uri": "https://localhost:8080/"
        },
        "outputId": "0642444b-04de-4197-e8b1-194d2bc5a5c4"
      },
      "execution_count": 10,
      "outputs": [
        {
          "output_type": "stream",
          "name": "stdout",
          "text": [
            "1884/1884 [==============================] - 3s 1ms/step\n"
          ]
        }
      ]
    },
    {
      "cell_type": "markdown",
      "source": [
        "# Saving a results"
      ],
      "metadata": {
        "id": "Q3XsptwEBij7"
      }
    },
    {
      "cell_type": "code",
      "source": [
        "test_set['league_rank'] = predictions_test\n",
        "test_set['club_id'] = clubs"
      ],
      "metadata": {
        "id": "ds0eKCHPFlSR"
      },
      "execution_count": 29,
      "outputs": []
    },
    {
      "cell_type": "code",
      "source": [
        "print(test_set.columns)"
      ],
      "metadata": {
        "colab": {
          "base_uri": "https://localhost:8080/"
        },
        "id": "SbPe4-OYGHpB",
        "outputId": "e973e5ff-9c60-4287-95a7-b4fec0d117ac"
      },
      "execution_count": 33,
      "outputs": [
        {
          "output_type": "stream",
          "name": "stdout",
          "text": [
            "Index(['league_id', 'averaged_club_id', 'averaged_dynamic_payment_segment',\n",
            "       'averaged_avg_age_top_11_players', 'averaged_avg_stars_top_11_players',\n",
            "       'averaged_avg_training_factor_top_11_players',\n",
            "       'averaged_days_active_last_28_days',\n",
            "       'averaged_league_match_watched_count_last_28_days',\n",
            "       'averaged_session_count_last_28_days', 'averaged_playtime_last_28_days',\n",
            "       'averaged_league_match_won_count_last_28_days',\n",
            "       'averaged_training_count_last_28_days',\n",
            "       'averaged_global_competition_level',\n",
            "       'averaged_tokens_spent_last_28_days', 'averaged_tokens_stash',\n",
            "       'averaged_rests_stash', 'averaged_morale_boosters_stash', 'league_rank',\n",
            "       'club_id'],\n",
            "      dtype='object')\n"
          ]
        }
      ]
    },
    {
      "cell_type": "code",
      "source": [
        "new_dataset = test_set[['club_id', 'league_rank']]\n",
        "new_dataset.to_csv(\"league_rank_predictions.csv\", index = False)"
      ],
      "metadata": {
        "id": "NfBmRnADDpy0"
      },
      "execution_count": 34,
      "outputs": []
    },
    {
      "cell_type": "code",
      "source": [
        "print(new_dataset.columns)"
      ],
      "metadata": {
        "colab": {
          "base_uri": "https://localhost:8080/"
        },
        "id": "x-PWKz3HEzXg",
        "outputId": "1a4e9e0b-6be8-4ca6-e637-198b22f26596"
      },
      "execution_count": 31,
      "outputs": [
        {
          "output_type": "stream",
          "name": "stdout",
          "text": [
            "Index(['club_id', 'league_rank'], dtype='object')\n"
          ]
        }
      ]
    }
  ]
}