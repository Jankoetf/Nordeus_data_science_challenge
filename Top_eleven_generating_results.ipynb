{
  "nbformat": 4,
  "nbformat_minor": 0,
  "metadata": {
    "colab": {
      "provenance": []
    },
    "kernelspec": {
      "name": "python3",
      "display_name": "Python 3"
    },
    "language_info": {
      "name": "python"
    }
  },
  "cells": [
    {
      "cell_type": "code",
      "execution_count": 22,
      "metadata": {
        "id": "Ee4EQrO3F0Oh"
      },
      "outputs": [],
      "source": [
        "import numpy as np\n",
        "import matplotlib.pyplot as plt\n",
        "import pandas as pd\n",
        "import tensorflow as tf\n",
        "\n",
        "dataset = pd.read_csv('jobfair_train.csv')\n",
        "dataset = dataset.sort_values(by='league_id')\n",
        "dataset = dataset.drop('registration_country', axis=1)\n",
        "dataset = dataset.drop('registration_platform_specific', axis=1)\n",
        "dataset = dataset.drop('season', axis=1)\n",
        "\n",
        "test_dataset = pd.read_csv('jobfair_test.csv')\n",
        "test_dataset = test_dataset.sort_values(by='league_id')\n",
        "test_dataset = test_dataset.drop('registration_country', axis=1)\n",
        "test_dataset = test_dataset.drop('registration_platform_specific', axis=1)\n",
        "test_dataset = test_dataset.drop('season', axis=1)"
      ]
    },
    {
      "cell_type": "code",
      "source": [
        "'''Dynamic_Payment_Segment'''\n",
        "new_dynamic = {'0) NonPayer': 0, '1) ExPayer': 1, '2) Minnow': 2, '3) Dolphin': 3, '4) Whale': 4}\n",
        "dataset['dynamic_payment_segment'] = dataset['dynamic_payment_segment'].map(new_dynamic)\n",
        "test_dataset['dynamic_payment_segment'] = test_dataset['dynamic_payment_segment'].map(new_dynamic)\n",
        "\n",
        "'''Global_Competition_Level'''\n",
        "dataset['global_competition_level'].fillna(0, inplace = True)\n",
        "test_dataset['global_competition_level'].fillna(0, inplace = True)"
      ],
      "metadata": {
        "id": "r3QxrifUy012"
      },
      "execution_count": 23,
      "outputs": []
    },
    {
      "cell_type": "markdown",
      "source": [
        "# Help"
      ],
      "metadata": {
        "id": "vzCwbv4UBdhE"
      }
    },
    {
      "cell_type": "code",
      "source": [
        "import copy\n",
        "def one_post_process(y_p):\n",
        "    y_p_copy = y_p[:]\n",
        "    temp = np.argsort(np.array(y_p))\n",
        "    for i in range(len(y_p)):\n",
        "        y_p_copy[temp[i]] = i + 1\n",
        "    return y_p_copy\n",
        "\n",
        "def post_sorting(y_pred, length):\n",
        "    y_prediction = copy.deepcopy(y_pred)\n",
        "    n = int(len(y_prediction) / length)\n",
        "\n",
        "    for i in range(n):\n",
        "        y_prediction[i*length:(i+1)*length] = one_post_process(y_prediction[i*length:(i+1)*length])\n",
        "\n",
        "    return y_prediction"
      ],
      "metadata": {
        "id": "mThAevfnwCWr"
      },
      "execution_count": 24,
      "outputs": []
    },
    {
      "cell_type": "markdown",
      "source": [
        "# Prediction"
      ],
      "metadata": {
        "id": "ZejmB8tHBgKt"
      }
    },
    {
      "cell_type": "code",
      "source": [
        "from sklearn.preprocessing import StandardScaler\n",
        "sc = StandardScaler()\n",
        "X_train_scaled = sc.fit_transform(dataset.iloc[:,:-1].values)\n",
        "y_train = dataset.iloc[:, -1].values\n",
        "X_test_scaled = sc.transform(test_dataset.iloc[:,:].values)"
      ],
      "metadata": {
        "id": "rRCM8J5kBYfL"
      },
      "execution_count": 25,
      "outputs": []
    },
    {
      "cell_type": "code",
      "source": [
        "from xgboost import XGBRegressor\n",
        "regressor = XGBRegressor(reg_lambda = 0.2, learning_rate = 0.1, gamma = 0,reg_alpha = 0,\\\n",
        "                          subsample = 0.9, max_depth = 7, min_child_weight = 50, n_estimators = 85)"
      ],
      "metadata": {
        "id": "0I84BQ-YBM-E"
      },
      "execution_count": 26,
      "outputs": []
    },
    {
      "cell_type": "code",
      "source": [
        "regressor.fit(X_train_scaled, y_train)"
      ],
      "metadata": {
        "id": "C7ta8X349YQe"
      },
      "execution_count": null,
      "outputs": []
    },
    {
      "cell_type": "code",
      "source": [
        "y_pred_test = regressor.predict(X_test_scaled)\n",
        "y_pred_test_sorted = post_sorting(y_pred_test, 14)"
      ],
      "metadata": {
        "id": "IajbW7c6DCdL"
      },
      "execution_count": 28,
      "outputs": []
    },
    {
      "cell_type": "markdown",
      "source": [
        "# Saving a results"
      ],
      "metadata": {
        "id": "Q3XsptwEBij7"
      }
    },
    {
      "cell_type": "code",
      "source": [
        "test_dataset['league_rank'] = y_pred_test_sorted"
      ],
      "metadata": {
        "id": "NfBmRnADDpy0"
      },
      "execution_count": 29,
      "outputs": []
    },
    {
      "cell_type": "code",
      "source": [
        "#print(test_dataset.head(14))"
      ],
      "metadata": {
        "id": "ZtNu7YwsL5nK"
      },
      "execution_count": null,
      "outputs": []
    },
    {
      "cell_type": "code",
      "source": [
        "new_dataset = test_dataset[['club_id', 'league_rank']]\n",
        "new_dataset = new_dataset.sort_values(by='club_id')\n",
        "new_dataset.to_csv(\"league_rank_predictions.csv\", index = False)"
      ],
      "metadata": {
        "id": "nMukdVc2EjoU"
      },
      "execution_count": 31,
      "outputs": []
    }
  ]
}