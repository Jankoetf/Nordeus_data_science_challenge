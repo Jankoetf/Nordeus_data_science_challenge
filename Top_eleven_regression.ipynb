{
  "nbformat": 4,
  "nbformat_minor": 0,
  "metadata": {
    "colab": {
      "provenance": []
    },
    "kernelspec": {
      "name": "python3",
      "display_name": "Python 3"
    },
    "language_info": {
      "name": "python"
    }
  },
  "cells": [
    {
      "cell_type": "markdown",
      "source": [
        "# Import - Preprocesing"
      ],
      "metadata": {
        "id": "WZsOJv4esj45"
      }
    },
    {
      "cell_type": "code",
      "execution_count": null,
      "metadata": {
        "id": "Ee4EQrO3F0Oh"
      },
      "outputs": [],
      "source": [
        "import numpy as np\n",
        "import matplotlib.pyplot as plt\n",
        "import pandas as pd\n",
        "import tensorflow as tf\n",
        "\n",
        "dataset = pd.read_csv('jobfair_train.csv')\n",
        "dataset = dataset.sort_values(by='league_id')\n",
        "dataset = dataset.drop('registration_country', axis=1)\n",
        "dataset = dataset.drop('registration_platform_specific', axis=1)\n",
        "dataset = dataset.drop('season', axis=1)"
      ]
    },
    {
      "cell_type": "code",
      "source": [
        "'''Dynamic_Payment_Segment'''\n",
        "new_dynamic = {'0) NonPayer': 0, '1) ExPayer': 1, '2) Minnow': 2, '3) Dolphin': 3, '4) Whale': 4}\n",
        "dataset['dynamic_payment_segment'] = dataset['dynamic_payment_segment'].map(new_dynamic)\n",
        "#print(dataset['dynamic_payment_segment'][:40])\n",
        "\n",
        "'''Global_Competition_Level'''\n",
        "dataset['global_competition_level'].fillna(0, inplace = True)\n",
        "#print(dataset['global_competition_level'][:40])"
      ],
      "metadata": {
        "id": "r3QxrifUy012"
      },
      "execution_count": null,
      "outputs": []
    },
    {
      "cell_type": "code",
      "source": [
        "print(dataset.shape)\n",
        "print(dataset.isnull().any().any())"
      ],
      "metadata": {
        "colab": {
          "base_uri": "https://localhost:8080/"
        },
        "id": "fdG-MohcicB2",
        "outputId": "ffd0cb33-a303-444d-a76c-0206fc9ac4d9"
      },
      "execution_count": null,
      "outputs": [
        {
          "output_type": "stream",
          "name": "stdout",
          "text": [
            "(55314, 20)\n",
            "False\n"
          ]
        }
      ]
    },
    {
      "cell_type": "markdown",
      "source": [
        "# Split of dataset on new train, val, test set"
      ],
      "metadata": {
        "id": "dKgb2Q1Cu3dl"
      }
    },
    {
      "cell_type": "code",
      "source": [
        "def train_val_test_split_fast(data):\n",
        "    list_of_choices = np.random.choice([0,1,2], size = int(data.shape[0] / 14), p = [0.7, 0.15, 0.15])\n",
        "\n",
        "    X = data.iloc[:,:].values\n",
        "    train_set, val_set, test_set = [], [], []\n",
        "\n",
        "    for i, choice in enumerate(list_of_choices):\n",
        "        if choice == 0:\n",
        "                train_set.append(X[14*i:(i+1)*14, :])\n",
        "        elif choice == 1:\n",
        "                val_set.append(X[14*i:(i+1)*14, :])\n",
        "        else:\n",
        "                test_set.append(X[14*i:(i+1)*14, :])\n",
        "\n",
        "    train_set, val_set, test_set = np.concatenate(train_set), np.concatenate(val_set), np.concatenate(test_set)\n",
        "\n",
        "\n",
        "    return train_set[:, :-1], train_set[:, -1], val_set[:, :-1], val_set[:, -1], test_set[:,:-1], test_set[:, -1]\n",
        "\n",
        "#X_train, y_train, X_val, y_val, X_test, y_test = train_val_test_split_fast(dataset)"
      ],
      "metadata": {
        "id": "--VL5vKlOHrh"
      },
      "execution_count": null,
      "outputs": []
    },
    {
      "cell_type": "markdown",
      "source": [
        "# Post-processing"
      ],
      "metadata": {
        "id": "6BJuRkcGpvLa"
      }
    },
    {
      "cell_type": "markdown",
      "source": [
        "Functions for **post-processing predictions**, and comparison of predictions **mae**"
      ],
      "metadata": {
        "id": "lsBH5Nwnp6QF"
      }
    },
    {
      "cell_type": "code",
      "source": [
        "import numpy as np\n",
        "ex = [2, 8.4, 7, 12, 6.1] # result = [1, 4, 3, 5, 2]\n",
        "ex2 = [6, 5, 3, 8, 9] # result = [3 ,2, 1, 4, 5]\n",
        "\n",
        "def one_post_process(y_p):\n",
        "    y_p_copy = y_p[:]\n",
        "    temp = np.argsort(np.array(y_p))\n",
        "    for i in range(len(y_p)):\n",
        "        y_p_copy[temp[i]] = i + 1\n",
        "    return y_p_copy\n",
        "\n",
        "#print(one_post_process(ex))\n",
        "#print(one_post_process(ex2))\n",
        "#print(ex)\n",
        "#print(ex2)"
      ],
      "metadata": {
        "id": "mThAevfnwCWr"
      },
      "execution_count": null,
      "outputs": []
    },
    {
      "cell_type": "code",
      "source": [
        "import copy\n",
        "example = ex + ex2\n",
        "#print(example)\n",
        "\n",
        "def post_sorting(y_pred, length):\n",
        "    y_prediction = copy.deepcopy(y_pred)\n",
        "    n = int(len(y_prediction) / length)\n",
        "\n",
        "    for i in range(n):\n",
        "        y_prediction[i*length:(i+1)*length] = one_post_process(y_prediction[i*length:(i+1)*length])\n",
        "\n",
        "    return y_prediction\n",
        "\n",
        "#print(post_sorting(example, 5))\n",
        "#print(example)"
      ],
      "metadata": {
        "id": "xBJQlSVswCWy"
      },
      "execution_count": null,
      "outputs": []
    },
    {
      "cell_type": "code",
      "source": [
        "y1 = [3,2,4,1]\n",
        "y2 = [1,2,3,4]\n",
        "y3 = [4,2,3,1]\n",
        "\n",
        "def MAE(y, y_pred):\n",
        "    s = 0\n",
        "    for i in range(len(y)):\n",
        "        s += abs(y[i] - y_pred[i])\n",
        "    return s / len(y)\n",
        "\n",
        "#print(MAE(y1,y2)); print(MAE(y1,y3)); print(MAE(y3,y2));"
      ],
      "metadata": {
        "id": "joAOeVcOrp_w"
      },
      "execution_count": null,
      "outputs": []
    },
    {
      "cell_type": "code",
      "source": [
        "def MAX_MAE():\n",
        "    l1 = list(range(14))\n",
        "    l2 = l1[::-1]\n",
        "    max_error = MAE(l1, l2)\n",
        "    print(max_error)\n",
        "\n",
        "MAX_MAE()"
      ],
      "metadata": {
        "colab": {
          "base_uri": "https://localhost:8080/"
        },
        "id": "VjtEb-pz1w0F",
        "outputId": "06681157-17c8-4bd5-9160-cf1fadf8eeff"
      },
      "execution_count": null,
      "outputs": [
        {
          "output_type": "stream",
          "name": "stdout",
          "text": [
            "7.0\n"
          ]
        }
      ]
    },
    {
      "cell_type": "code",
      "source": [
        "def average_MAE_error():\n",
        "    repetition = 1000\n",
        "    sum = 0\n",
        "    for i in range(repetition):\n",
        "        random_permutation1 = np.random.permutation(np.arange(1, 14 + 1))\n",
        "        random_permutation2 = np.random.permutation(np.arange(1, 14 + 1))\n",
        "        temp = MAE(random_permutation1, random_permutation2)\n",
        "        sum+=temp\n",
        "    print(\"Average MAE error: \", sum/repetition)\n",
        "\n",
        "average_MAE_error()"
      ],
      "metadata": {
        "colab": {
          "base_uri": "https://localhost:8080/"
        },
        "id": "Z7IUpKKaUvck",
        "outputId": "2d407e3d-f491-41d7-a0a4-749097f8c3f5"
      },
      "execution_count": null,
      "outputs": [
        {
          "output_type": "stream",
          "name": "stdout",
          "text": [
            "Average MAE error:  4.6568571428571435\n"
          ]
        }
      ]
    },
    {
      "cell_type": "code",
      "source": [
        "def safe_MAE_error():\n",
        "    repetition = 1000\n",
        "    sum = 0\n",
        "    for i in range(repetition):\n",
        "        random_permutation1 = np.random.permutation(np.arange(1, 14 + 1))\n",
        "        random_permutation2 = np.random.choice(a = [7, 8], size = 14,  p = [0.5, 0.5])\n",
        "        temp = MAE(random_permutation1, random_permutation2)\n",
        "        sum+=temp\n",
        "    print(\"Average MAE error: \", sum/repetition)\n",
        "\n",
        "safe_MAE_error()"
      ],
      "metadata": {
        "colab": {
          "base_uri": "https://localhost:8080/"
        },
        "id": "k8IzcvP13F97",
        "outputId": "1d4f110e-c636-4452-c4ae-03078ec13744"
      },
      "execution_count": null,
      "outputs": [
        {
          "output_type": "stream",
          "name": "stdout",
          "text": [
            "Average MAE error:  3.502714285714283\n"
          ]
        }
      ]
    },
    {
      "cell_type": "markdown",
      "source": [
        "# Evaluation - Regression"
      ],
      "metadata": {
        "id": "zEIiwk2lYIXO"
      }
    },
    {
      "cell_type": "code",
      "source": [
        "from sklearn.metrics import mean_absolute_error\n",
        "def evaluate_regressor(regressor, X_val_test, y_true, verbose = 1):\n",
        "    y_pred = regressor.predict(X_val_test)\n",
        "    y_pred_sorted = post_sorting(y_pred, 14)\n",
        "\n",
        "    mae_val_test = mean_absolute_error(y_true, y_pred)\n",
        "    mae_val_test_sorted = mean_absolute_error(y_true, y_pred_sorted)\n",
        "    if verbose:\n",
        "        print(f\"Mean Absolute Error - predictions: {mae_val_test}\")\n",
        "        print(f\"Mean Absolute Error - sorted prediction: {mae_val_test_sorted}\")\n",
        "    else:\n",
        "        return mae_val_test, mae_val_test_sorted"
      ],
      "metadata": {
        "id": "A8_aus72YQuP"
      },
      "execution_count": null,
      "outputs": []
    },
    {
      "cell_type": "code",
      "source": [
        "from sklearn.preprocessing import StandardScaler\n",
        "from sklearn.preprocessing import PolynomialFeatures\n",
        "def regressor_average_evaluation(regressor, data, poly = 0, scaling = 1, verbose = 1):\n",
        "    sorted_average_val_test, average_val_test, average_train, sorted_average_train = 0,0,0,0\n",
        "\n",
        "    n = 5\n",
        "    for i in range(n):\n",
        "        X_train, y_train, X_val, y_val, X_test, y_test = train_val_test_split_fast(data)\n",
        "        if scaling:\n",
        "            sc = StandardScaler()\n",
        "            X_train = sc.fit_transform(X_train)\n",
        "            X_val = sc.transform(X_val)\n",
        "            X_test = sc.transform(X_test)\n",
        "\n",
        "        if poly:\n",
        "            polynomial = PolynomialFeatures(degree = 2)\n",
        "            X_train = polynomial.fit_transform(X_train)\n",
        "            X_val = polynomial.transform(X_val)\n",
        "            X_test = polynomial.transform(X_test)\n",
        "\n",
        "        regressor.fit(X_train, y_train)\n",
        "\n",
        "        temp_train, temp_train_sorted = evaluate_regressor(regressor, X_train, y_train, 0)\n",
        "        temp_val, temp_val_sorted = evaluate_regressor(regressor, X_val, y_val, 0)\n",
        "        temp_test, temp_test_sorted = evaluate_regressor(regressor, X_test, y_test, 0)\n",
        "\n",
        "        average_train += temp_train\n",
        "        sorted_average_train += temp_train_sorted\n",
        "        average_val_test = average_val_test + temp_val + temp_test\n",
        "        sorted_average_val_test = sorted_average_val_test + temp_val_sorted + temp_test_sorted\n",
        "\n",
        "    if verbose:\n",
        "        print(\"Average MAE - train prediction: \", average_train/n)\n",
        "        print(\"Average MAE - sorted_train prediction: \", sorted_average_train/n)\n",
        "        print(\"Average MAE - val_test prediction: \", average_val_test/n/2)\n",
        "        print(\"Average MAE - sorted_val_test prediction: \", sorted_average_val_test/2/n)\n",
        "    else:\n",
        "        return (average_train/10, sorted_average_train/10, average_val_test/20, sorted_average_val_test/20)\n"
      ],
      "metadata": {
        "id": "taMTtY5cZy4B"
      },
      "execution_count": null,
      "outputs": []
    },
    {
      "cell_type": "markdown",
      "source": [
        "# Regresion - template"
      ],
      "metadata": {
        "id": "8p2nJM9JPW6t"
      }
    },
    {
      "cell_type": "markdown",
      "source": [
        "Finding what works the best"
      ],
      "metadata": {
        "id": "ofuEMRsUl13b"
      }
    },
    {
      "cell_type": "code",
      "source": [
        "X_train, y_train, X_val, y_val, X_test, y_test = train_val_test_split_fast(dataset)"
      ],
      "metadata": {
        "id": "r5qMq0-Rs5vp"
      },
      "execution_count": null,
      "outputs": []
    },
    {
      "cell_type": "code",
      "source": [
        "from sklearn.preprocessing import StandardScaler\n",
        "sc = StandardScaler()\n",
        "X_train_scaled = sc.fit_transform(X_train)\n",
        "X_val_scaled = sc.transform(X_val)\n",
        "X_test_scaled = sc.transform(X_test)"
      ],
      "metadata": {
        "id": "XtF7OS10T9rz"
      },
      "execution_count": null,
      "outputs": []
    },
    {
      "cell_type": "markdown",
      "source": [
        "## Multiple linear"
      ],
      "metadata": {
        "id": "zPIj4DL4RmKc"
      }
    },
    {
      "cell_type": "code",
      "source": [
        "from sklearn.linear_model import LinearRegression\n",
        "l_regressor = LinearRegression()\n",
        "l_regressor.fit(X_train_scaled, y_train)"
      ],
      "metadata": {
        "id": "FtNFajALRrm8"
      },
      "execution_count": null,
      "outputs": []
    },
    {
      "cell_type": "code",
      "source": [
        "print(\"training set: \")\n",
        "evaluate_regressor(l_regressor, X_train_scaled, y_train)\n",
        "print(\"validation set: \")\n",
        "evaluate_regressor(l_regressor, X_val_scaled, y_val)\n",
        "print(\"test set: \")\n",
        "evaluate_regressor(l_regressor, X_test_scaled, y_test)"
      ],
      "metadata": {
        "colab": {
          "base_uri": "https://localhost:8080/"
        },
        "id": "FKzVGBLnZ-nX",
        "outputId": "62c6d2af-9733-4af7-95ec-d35ad2843f70"
      },
      "execution_count": null,
      "outputs": [
        {
          "output_type": "stream",
          "name": "stdout",
          "text": [
            "training set: \n",
            "Mean Absolute Error - predictions: 2.5323825765471253\n",
            "Mean Absolute Error - sorted prediction: 2.4599065084501976\n",
            "validation set: \n",
            "Mean Absolute Error - predictions: 2.5372734768550367\n",
            "Mean Absolute Error - sorted prediction: 2.487857142857143\n",
            "test set: \n",
            "Mean Absolute Error - predictions: 2.5381076907619264\n",
            "Mean Absolute Error - sorted prediction: 2.4784461152882207\n"
          ]
        }
      ]
    },
    {
      "cell_type": "code",
      "source": [
        "regressor_average_evaluation(LinearRegression(), dataset)"
      ],
      "metadata": {
        "colab": {
          "base_uri": "https://localhost:8080/"
        },
        "id": "y1y6DGPpgV3u",
        "outputId": "df2cd104-ab08-4d75-b928-c18367fa5b06"
      },
      "execution_count": null,
      "outputs": [
        {
          "output_type": "stream",
          "name": "stdout",
          "text": [
            "Average MAE - train prediction:  2.5342722506366666\n",
            "Average MAE - sorted_train prediction:  2.4704732724582583\n",
            "Average MAE - val_test prediction:  2.5317387532837934\n",
            "Average MAE - sorted_val_test prediction:  2.4653235194944783\n"
          ]
        }
      ]
    },
    {
      "cell_type": "markdown",
      "source": [
        "## Polynomial"
      ],
      "metadata": {
        "id": "lE0Y0YjmRryF"
      }
    },
    {
      "cell_type": "code",
      "source": [
        "from sklearn.preprocessing import PolynomialFeatures\n",
        "poly = PolynomialFeatures(degree = 2)\n",
        "X_train_polynomial = poly.fit_transform(X_train_scaled)\n",
        "p_regressor = LinearRegression()\n",
        "p_regressor.fit(X_train_polynomial, y_train)"
      ],
      "metadata": {
        "id": "UcrexRTaRuLM"
      },
      "execution_count": null,
      "outputs": []
    },
    {
      "cell_type": "code",
      "source": [
        "print(\"training set: \")\n",
        "evaluate_regressor(p_regressor, poly.transform(X_train_scaled), y_train)\n",
        "print(\"validation set: \")\n",
        "evaluate_regressor(p_regressor, poly.transform(X_val_scaled), y_val)\n",
        "print(\"test set: \")\n",
        "evaluate_regressor(p_regressor, poly.transform(X_test_scaled), y_test)"
      ],
      "metadata": {
        "colab": {
          "base_uri": "https://localhost:8080/"
        },
        "id": "7Ll19nqtW-Xr",
        "outputId": "11ec485e-08ba-4b8a-c444-637a30d00ac4"
      },
      "execution_count": null,
      "outputs": [
        {
          "output_type": "stream",
          "name": "stdout",
          "text": [
            "training set: \n",
            "Mean Absolute Error - predictions: 2.4178014273879835\n",
            "Mean Absolute Error - sorted prediction: 2.276378240233662\n",
            "validation set: \n",
            "Mean Absolute Error - predictions: 2.4227267200107336\n",
            "Mean Absolute Error - sorted prediction: 2.3089983022071308\n",
            "test set: \n",
            "Mean Absolute Error - predictions: 2.4728675938249394\n",
            "Mean Absolute Error - sorted prediction: 2.334097684017427\n"
          ]
        }
      ]
    },
    {
      "cell_type": "code",
      "source": [
        "regressor_average_evaluation(LinearRegression(), dataset, poly = 1)"
      ],
      "metadata": {
        "colab": {
          "base_uri": "https://localhost:8080/"
        },
        "id": "WGkarTGElsLu",
        "outputId": "337f9c0a-c005-48f2-ec9d-2d76f88220a8"
      },
      "execution_count": null,
      "outputs": [
        {
          "output_type": "stream",
          "name": "stdout",
          "text": [
            "Average MAE - train prediction:  2.428622429754024\n",
            "Average MAE - sorted_train prediction:  2.2988013734448476\n",
            "Average MAE - val_test prediction:  2.7408785882248585\n",
            "Average MAE - sorted_val_test prediction:  2.2974844185835495\n"
          ]
        }
      ]
    },
    {
      "cell_type": "markdown",
      "source": [
        "## SVR"
      ],
      "metadata": {
        "id": "zgRsYQdnRuTc"
      }
    },
    {
      "cell_type": "code",
      "source": [
        "from sklearn.svm import SVR\n",
        "regressor_svr = SVR(kernel = 'rbf')\n",
        "regressor_svr.fit(X_train_scaled, y_train)"
      ],
      "metadata": {
        "id": "pq9mdIJqRxPr"
      },
      "execution_count": null,
      "outputs": []
    },
    {
      "cell_type": "code",
      "source": [
        "print(\"training set: \")\n",
        "evaluate_regressor(regressor_svr, X_train_scaled, y_train)\n",
        "print(\"validation set: \")\n",
        "evaluate_regressor(regressor_svr, X_val_scaled, y_val)\n",
        "print(\"test set: \")\n",
        "evaluate_regressor(regressor_svr, X_test_scaled, y_test)"
      ],
      "metadata": {
        "colab": {
          "base_uri": "https://localhost:8080/"
        },
        "id": "T1WbiwvKRxSc",
        "outputId": "5f5238b2-efce-454f-fc12-5665e6f86d0d"
      },
      "execution_count": null,
      "outputs": [
        {
          "output_type": "stream",
          "name": "stdout",
          "text": [
            "training set: \n",
            "Mean Absolute Error - predictions: 2.2942395923130636\n",
            "Mean Absolute Error - sorted prediction: 2.204362280878501\n",
            "validation set: \n",
            "Mean Absolute Error - predictions: 2.3773764247262386\n",
            "Mean Absolute Error - sorted prediction: 2.349040139616056\n",
            "test set: \n",
            "Mean Absolute Error - predictions: 2.3641664945922822\n",
            "Mean Absolute Error - sorted prediction: 2.2957301001581443\n"
          ]
        }
      ]
    },
    {
      "cell_type": "markdown",
      "source": [
        "## Desition Tree"
      ],
      "metadata": {
        "id": "eiSG22IsRxZk"
      }
    },
    {
      "cell_type": "code",
      "source": [
        "from sklearn.tree import DecisionTreeRegressor\n",
        "tree_regressor = DecisionTreeRegressor()\n",
        "tree_regressor.fit(X_train_scaled, y_train)"
      ],
      "metadata": {
        "id": "d0kuC5eQR1ys"
      },
      "execution_count": null,
      "outputs": []
    },
    {
      "cell_type": "code",
      "source": [
        "print(\"training set: \")\n",
        "evaluate_regressor(tree_regressor, X_train_scaled, y_train)\n",
        "print(\"validation set: \")\n",
        "evaluate_regressor(tree_regressor, X_val_scaled, y_val)\n",
        "print(\"test set: \")\n",
        "evaluate_regressor(tree_regressor, X_test_scaled, y_test)"
      ],
      "metadata": {
        "colab": {
          "base_uri": "https://localhost:8080/"
        },
        "id": "_L-Gpp1ZR11T",
        "outputId": "9e66dc61-bca4-4516-8048-3ebd598ed975"
      },
      "execution_count": null,
      "outputs": [
        {
          "output_type": "stream",
          "name": "stdout",
          "text": [
            "training set: \n",
            "Mean Absolute Error - predictions: 0.0\n",
            "Mean Absolute Error - sorted prediction: 0.0\n",
            "validation set: \n",
            "Mean Absolute Error - predictions: 3.0396555905893767\n",
            "Mean Absolute Error - sorted prediction: 2.980354111084162\n",
            "test set: \n",
            "Mean Absolute Error - predictions: 3.045975693648246\n",
            "Mean Absolute Error - sorted prediction: 3.008254987388214\n"
          ]
        }
      ]
    },
    {
      "cell_type": "markdown",
      "source": [
        "## Random Forest"
      ],
      "metadata": {
        "id": "7cVOIs1JR16c"
      }
    },
    {
      "cell_type": "code",
      "source": [
        "from sklearn.ensemble import RandomForestRegressor\n",
        "forest_regressor = RandomForestRegressor()\n",
        "forest_regressor.fit(X_train_scaled, y_train)"
      ],
      "metadata": {
        "id": "Aqh0-g-jR5r7"
      },
      "execution_count": null,
      "outputs": []
    },
    {
      "cell_type": "code",
      "source": [
        "print(\"training set: \")\n",
        "evaluate_regressor(forest_regressor, X_train_scaled, y_train)\n",
        "print(\"validation set: \")\n",
        "evaluate_regressor(forest_regressor, X_val_scaled, y_val)\n",
        "print(\"test set: \")\n",
        "evaluate_regressor(forest_regressor, X_test_scaled, y_test)"
      ],
      "metadata": {
        "colab": {
          "base_uri": "https://localhost:8080/"
        },
        "id": "SrCvaZj4R5uF",
        "outputId": "0d2bbfd2-51a8-4198-b654-1ebf85d6a833"
      },
      "execution_count": null,
      "outputs": [
        {
          "output_type": "stream",
          "name": "stdout",
          "text": [
            "training set: \n",
            "Mean Absolute Error - predictions: 0.8373074101247249\n",
            "Mean Absolute Error - sorted prediction: 0.38528456136673306\n",
            "validation set: \n",
            "Mean Absolute Error - predictions: 2.277079734219269\n",
            "Mean Absolute Error - sorted prediction: 2.239424141749723\n",
            "test set: \n",
            "Mean Absolute Error - predictions: 2.238043103448276\n",
            "Mean Absolute Error - sorted prediction: 2.1982758620689653\n"
          ]
        }
      ]
    },
    {
      "cell_type": "code",
      "source": [
        "regressor_average_evaluation(RandomForestRegressor(), dataset)"
      ],
      "metadata": {
        "colab": {
          "base_uri": "https://localhost:8080/"
        },
        "id": "W7JvGGT4_Mto",
        "outputId": "2a10a847-b075-47ef-8dd4-3e39379dadfc"
      },
      "execution_count": null,
      "outputs": [
        {
          "output_type": "stream",
          "name": "stdout",
          "text": [
            "Average MAE - train prediction:  0.8378484133664056\n",
            "Average MAE - sorted_train prediction:  0.38142265156925415\n",
            "Average MAE - val_test prediction:  2.250839354662491\n",
            "Average MAE - sorted_val_test prediction:  2.2192816052006425\n"
          ]
        }
      ]
    },
    {
      "cell_type": "markdown",
      "source": [
        "## XG-BOOST"
      ],
      "metadata": {
        "id": "EU3NlDxdQ4T1"
      }
    },
    {
      "cell_type": "code",
      "source": [
        "from xgboost import XGBRegressor\n",
        "xg_regressor = XGBRegressor()\n",
        "xg_regressor.fit(X_train_scaled, y_train)"
      ],
      "metadata": {
        "id": "H8UiQt6mQ7U7"
      },
      "execution_count": null,
      "outputs": []
    },
    {
      "cell_type": "code",
      "source": [
        "print(\"training set: \")\n",
        "evaluate_regressor(xg_regressor, X_train_scaled, y_train)\n",
        "print(\"validation set: \")\n",
        "evaluate_regressor(xg_regressor, X_val_scaled, y_val)\n",
        "print(\"test set: \")\n",
        "evaluate_regressor(xg_regressor, X_test_scaled, y_test)"
      ],
      "metadata": {
        "colab": {
          "base_uri": "https://localhost:8080/"
        },
        "id": "Rpxk1MbUS-hN",
        "outputId": "10f3ff6c-b89e-4b71-fdbf-165ae7286431"
      },
      "execution_count": null,
      "outputs": [
        {
          "output_type": "stream",
          "name": "stdout",
          "text": [
            "training set: \n",
            "Mean Absolute Error - predictions: 1.7854937626693752\n",
            "Mean Absolute Error - sorted prediction: 1.5781364636830522\n",
            "validation set: \n",
            "Mean Absolute Error - predictions: 2.2565738776199527\n",
            "Mean Absolute Error - sorted prediction: 2.2387596899224804\n",
            "test set: \n",
            "Mean Absolute Error - predictions: 2.2095824867051115\n",
            "Mean Absolute Error - sorted prediction: 2.1889162561576354\n"
          ]
        }
      ]
    },
    {
      "cell_type": "code",
      "source": [
        "regressor_average_evaluation(XGBRegressor(), dataset)"
      ],
      "metadata": {
        "colab": {
          "base_uri": "https://localhost:8080/"
        },
        "outputId": "f878a999-ac95-4475-8a6e-d54e468a3ce8",
        "id": "ebIJ39U0S-hO"
      },
      "execution_count": null,
      "outputs": [
        {
          "output_type": "stream",
          "name": "stdout",
          "text": [
            "Average MAE - train prediction:  1.789427088421571\n",
            "Average MAE - sorted_train prediction:  1.5896532645713317\n",
            "Average MAE - val_test prediction:  2.2299150324133796\n",
            "Average MAE - sorted_val_test prediction:  2.201777188448527\n"
          ]
        }
      ]
    },
    {
      "cell_type": "code",
      "source": [
        "feature_importances = xg_regressor.feature_importances_\n",
        "column_names = dataset.columns.tolist()\n",
        "column_names.remove('league_rank')\n",
        "feature_importance_df = pd.DataFrame({'Feature': column_names, 'Importance': feature_importances})\n",
        "feature_importance_df = feature_importance_df.sort_values('Importance', ascending=False)\n",
        "\n",
        "print(feature_importance_df)"
      ],
      "metadata": {
        "colab": {
          "base_uri": "https://localhost:8080/"
        },
        "id": "izQVvzs8Rit5",
        "outputId": "bedee1a4-2ae0-4a9a-cc30-e20f093f5295"
      },
      "execution_count": null,
      "outputs": [
        {
          "output_type": "stream",
          "name": "stdout",
          "text": [
            "                                    Feature  Importance\n",
            "11                    playtime_last_28_days    0.338674\n",
            "10               session_count_last_28_days    0.162261\n",
            "12      league_match_won_count_last_28_days    0.074617\n",
            "3                             cohort_season    0.066750\n",
            "8                  days_active_last_28_days    0.057950\n",
            "1                                 league_id    0.052451\n",
            "5                  avg_stars_top_11_players    0.036034\n",
            "6                  avg_stars_top_14_players    0.028760\n",
            "13              training_count_last_28_days    0.025046\n",
            "15                tokens_spent_last_28_days    0.021019\n",
            "0                                   club_id    0.020250\n",
            "4                    avg_age_top_11_players    0.017738\n",
            "14                 global_competition_level    0.017075\n",
            "7        avg_training_factor_top_11_players    0.015635\n",
            "18                    morale_boosters_stash    0.014859\n",
            "2                   dynamic_payment_segment    0.014054\n",
            "16                             tokens_stash    0.013390\n",
            "17                              rests_stash    0.012409\n",
            "9   league_match_watched_count_last_28_days    0.011026\n"
          ]
        }
      ]
    },
    {
      "cell_type": "markdown",
      "source": [
        "# HyperParameter tunning - XG boost"
      ],
      "metadata": {
        "id": "6hTeCFpRtGKZ"
      }
    },
    {
      "cell_type": "code",
      "source": [
        "X_train, y_train, X_val, y_val, X_test, y_test = train_val_test_split_fast(dataset)"
      ],
      "metadata": {
        "id": "FGeN52BCCcz7"
      },
      "execution_count": null,
      "outputs": []
    },
    {
      "cell_type": "code",
      "source": [
        "from sklearn.preprocessing import StandardScaler\n",
        "sc = StandardScaler()\n",
        "X_train_scaled = sc.fit_transform(X_train)\n",
        "X_val_scaled = sc.transform(X_val)\n",
        "X_test_scaled = sc.transform(X_test)"
      ],
      "metadata": {
        "id": "kjyto7_mCrk0"
      },
      "execution_count": null,
      "outputs": []
    },
    {
      "cell_type": "code",
      "source": [
        "from xgboost import XGBRegressor\n",
        "xg_regressor = XGBRegressor()\n",
        "xg_regressor.fit(X_train_scaled, y_train)"
      ],
      "metadata": {
        "id": "TlLqGtqmCeHj"
      },
      "execution_count": null,
      "outputs": []
    },
    {
      "cell_type": "code",
      "source": [
        "print(\"training set: \")\n",
        "evaluate_regressor(xg_regressor, X_train_scaled, y_train)\n",
        "print(\"validation set: \")\n",
        "evaluate_regressor(xg_regressor, X_val_scaled, y_val)\n",
        "print(\"test set: \")\n",
        "evaluate_regressor(xg_regressor, X_test_scaled, y_test)"
      ],
      "metadata": {
        "colab": {
          "base_uri": "https://localhost:8080/"
        },
        "id": "X8BBIScQ_lWt",
        "outputId": "fe434698-18c0-4046-dff7-f0bdfb1923bc"
      },
      "execution_count": null,
      "outputs": [
        {
          "output_type": "stream",
          "name": "stdout",
          "text": [
            "training set: \n",
            "Mean Absolute Error - predictions: 1.772059161440969\n",
            "Mean Absolute Error - sorted prediction: 1.568808301016665\n",
            "validation set: \n",
            "Mean Absolute Error - predictions: 2.249059246978413\n",
            "Mean Absolute Error - sorted prediction: 2.1890354868061874\n",
            "test set: \n",
            "Mean Absolute Error - predictions: 2.2437429011454633\n",
            "Mean Absolute Error - sorted prediction: 2.184254606365159\n"
          ]
        }
      ]
    },
    {
      "cell_type": "markdown",
      "source": [
        "## Tuning structural hyperparameters"
      ],
      "metadata": {
        "id": "UGk9GHNmnnZR"
      }
    },
    {
      "cell_type": "code",
      "source": [
        "# Tree hyperparams\n",
        "n_estimator_values = [30, 40, 55, 75, 85, 100]\n",
        "max_depth_values = [4,5,6,7,8,9,10]\n",
        "learning_rate_values = [0.05, 0.1, 0.12, 0.15]\n",
        "min_child_weight = [1, 5, 10, 20, 50, 100]\n",
        "subsample_values = [0.6, 0.7, 0.8, 0.9, 1.0]\n",
        "\n",
        "params = {}\n",
        "params_sorted = {}\n",
        "for lr in learning_rate_values:\n",
        "    for n in n_estimator_values:\n",
        "        for sub in subsample_values:\n",
        "            for depth in max_depth_values:\n",
        "                for min in min_child_weight:\n",
        "                    model = XGBRegressor(n_estimators = n, eta = lr, max_depth = depth, subsample  = sub, min_child_weight  = min)\n",
        "                    model.fit(X_train_scaled, y_train)\n",
        "                    t_val, t_val_sorted = evaluate_regressor(model, X_val_scaled, y_val, 0)\n",
        "                    t_test, t_test_sorted = evaluate_regressor(model, X_test_scaled, y_test, 0)\n",
        "                    params[(lr, n, sub, depth, min)] =  (t_val + t_test)/2\n",
        "                    params_sorted[(lr, n, sub, depth, min)] =  (t_val_sorted + t_test_sorted)/2\n",
        "params = dict(sorted(params.items(), key=lambda item: item[1], reverse=False))\n",
        "params_sorted = dict(sorted(params_sorted.items(), key=lambda item: item[1], reverse=False))\n",
        "print(params)\n",
        "print(params_sorted)"
      ],
      "metadata": {
        "id": "PDY09wlS3Ce_"
      },
      "execution_count": null,
      "outputs": []
    },
    {
      "cell_type": "markdown",
      "source": [
        "## Tuning regularization hyperparameters"
      ],
      "metadata": {
        "id": "ECPiTHGgnvEg"
      }
    },
    {
      "cell_type": "code",
      "source": [
        "# Regularization hyperparams\n",
        "reg_lambda_values = [0.1, 0.15, 0.15, 0.2, 0.25, 0.3, 0.35, 0.4]\n",
        "reg_alpha_values = [0.01, 0.05, 0.1, 0.15, 0.2, 0.25, 0.3]\n",
        "gamma_values = [0, 0.01, 0.05, 0.1, 0.2, 0.5, 0.8, 1.5, 2, 3, 4]\n",
        "learning_rate_values = [0.05, 0.08, 0.1, 0.12, 0.15, 0.2]\n",
        "\n",
        "params2 = {}\n",
        "params_sorted2 = {}\n",
        "for lr in learning_rate_values:\n",
        "    for lam in reg_lambda_values:\n",
        "        for alpha in reg_alpha_values:\n",
        "            for gamma in gamma_values:\n",
        "                model = XGBRegressor(n_estimators = 100, max_depth = 7,\\\n",
        "                                     subsample  = 0.9, min_child_weight  = 50, gamma = gamma,\\\n",
        "                                     eta = lr, reg_lambda = lam, reg_alpha = alpha)\n",
        "                model.fit(X_train_scaled, y_train)\n",
        "                t_val, t_val_sorted = evaluate_regressor(model, X_val_scaled, y_val, 0)\n",
        "                t_test, t_test_sorted = evaluate_regressor(model, X_test_scaled, y_test, 0)\n",
        "                params2[(lr, lam, alpha, gamma)] =  (t_val + t_test)/2\n",
        "                params_sorted2[(lr, lam, alpha, gamma)] =  (t_val_sorted + t_test_sorted)/2\n",
        "params2 = dict(sorted(params2.items(), key=lambda item: item[1], reverse=False))\n",
        "params_sorted2 = dict(sorted(params_sorted2.items(), key=lambda item: item[1], reverse=False))\n",
        "print(params2)\n",
        "print(params_sorted2)\n"
      ],
      "metadata": {
        "id": "gjw5zWWdR2-n"
      },
      "execution_count": null,
      "outputs": []
    },
    {
      "cell_type": "code",
      "source": [
        "best_model = XGBRegressor(reg_lambda = 0.1, learning_rate = 0.12, gamma = 0.1)\n",
        "best_model.fit(X_train_scaled, y_train)\n",
        "print(\"training set: \")\n",
        "evaluate_regressor(best_model, X_train_scaled, y_train)\n",
        "print(\"validation set: \")\n",
        "evaluate_regressor(best_model, X_val_scaled, y_val)\n",
        "print(\"test set: \")\n",
        "evaluate_regressor(best_model, X_test_scaled, y_test)"
      ],
      "metadata": {
        "colab": {
          "base_uri": "https://localhost:8080/"
        },
        "id": "2IK6ejYIERE4",
        "outputId": "da853a5b-651e-4c9c-c21d-e9f7f6345ac4"
      },
      "execution_count": null,
      "outputs": [
        {
          "output_type": "stream",
          "name": "stdout",
          "text": [
            "training set: \n",
            "Mean Absolute Error - predictions: 2.024507701440614\n",
            "Mean Absolute Error - sorted prediction: 1.8533167237620678\n",
            "validation set: \n",
            "Mean Absolute Error - predictions: 2.1838717986559892\n",
            "Mean Absolute Error - sorted prediction: 2.1301158301158303\n",
            "test set: \n",
            "Average MAE - train prediction:  2.0062826482987695\n",
            "Average MAE - sorted_train prediction:  1.8266563963268099\n",
            "Average MAE - val_test prediction:  2.229400074263152\n",
            "Average MAE - sorted_val_test prediction:  2.1670806222063055\n"
          ]
        }
      ]
    },
    {
      "cell_type": "code",
      "source": [
        "regressor_average_evaluation(XGBRegressor(reg_lambda = 0.1, learning_rate = 0.12, gamma = 0.1), dataset)"
      ],
      "metadata": {
        "colab": {
          "base_uri": "https://localhost:8080/"
        },
        "id": "4N0NdO5dFYXu",
        "outputId": "4644be25-e942-49fb-d304-983742a5f0fa"
      },
      "execution_count": null,
      "outputs": [
        {
          "output_type": "stream",
          "name": "stdout",
          "text": [
            "Average MAE - train prediction:  2.0090269532250673\n",
            "Average MAE - sorted_train prediction:  1.8296932705414601\n",
            "Average MAE - val_test prediction:  2.2272284334588455\n",
            "Average MAE - sorted_val_test prediction:  2.162692309422116\n"
          ]
        }
      ]
    },
    {
      "cell_type": "code",
      "source": [
        "regressor_average_evaluation(XGBRegressor(reg_lambda = 0.4, learning_rate = 0.1, gamma = 0,reg_alpha = 0.3,\\\n",
        "                          subsample = 0.9, max_depth = 6, min_child_weight = 20, n_estimators = 85), dataset)"
      ],
      "metadata": {
        "colab": {
          "base_uri": "https://localhost:8080/"
        },
        "id": "t3sEg3HY0Rtr",
        "outputId": "40fe0776-a57b-44af-f0a3-863e924bf63c"
      },
      "execution_count": null,
      "outputs": [
        {
          "output_type": "stream",
          "name": "stdout",
          "text": [
            "Average MAE - train prediction:  2.081430971169642\n",
            "Average MAE - sorted_train prediction:  1.9244511238474709\n",
            "Average MAE - val_test prediction:  2.233603041230944\n",
            "Average MAE - sorted_val_test prediction:  2.156749363763219\n"
          ]
        }
      ]
    },
    {
      "cell_type": "code",
      "source": [
        "regressor_average_evaluation(XGBRegressor(reg_lambda = 0.2, learning_rate = 0.1, gamma = 0,reg_alpha = 0.1,\\\n",
        "                          subsample = 0.9, max_depth = 6, min_child_weight = 20, n_estimators = 85), dataset)"
      ],
      "metadata": {
        "colab": {
          "base_uri": "https://localhost:8080/"
        },
        "id": "z80CvtI4FKs2",
        "outputId": "38b2688e-7b6f-4392-f076-6ce1625d7fd6"
      },
      "execution_count": null,
      "outputs": [
        {
          "output_type": "stream",
          "name": "stdout",
          "text": [
            "Average MAE - train prediction:  2.085049953595433\n",
            "Average MAE - sorted_train prediction:  1.9318278724788993\n",
            "Average MAE - val_test prediction:  2.232768177968383\n",
            "Average MAE - sorted_val_test prediction:  2.1659460811961884\n"
          ]
        }
      ]
    },
    {
      "cell_type": "code",
      "source": [
        "regressor_average_evaluation(XGBRegressor(reg_lambda = 0.2, learning_rate = 0.1, gamma = 0,reg_alpha = 0,\\\n",
        "                          subsample = 0.9, max_depth = 7, min_child_weight = 50, n_estimators = 85), dataset)"
      ],
      "metadata": {
        "colab": {
          "base_uri": "https://localhost:8080/"
        },
        "id": "rq6S1HO7Gj_x",
        "outputId": "97d14638-1a23-440b-b89f-26f8ef93a7c0"
      },
      "execution_count": null,
      "outputs": [
        {
          "output_type": "stream",
          "name": "stdout",
          "text": [
            "Average MAE - train prediction:  2.044991320698957\n",
            "Average MAE - sorted_train prediction:  1.8800928534864432\n",
            "Average MAE - val_test prediction:  2.2045799147679217\n",
            "Average MAE - sorted_val_test prediction:  2.1328549303493203\n"
          ]
        }
      ]
    },
    {
      "cell_type": "code",
      "source": [
        "regressor_average_evaluation(XGBRegressor(reg_lambda = 0.2, learning_rate = 0.1, gamma = 0,reg_alpha = 0,\\\n",
        "                          subsample = 0.9, max_depth = 7, min_child_weight = 50, n_estimators = 85), dataset, scaling = 1)"
      ],
      "metadata": {
        "colab": {
          "base_uri": "https://localhost:8080/"
        },
        "id": "vRNwAIQEHjFm",
        "outputId": "982cfd98-85da-43c5-df76-a1233a7238d7"
      },
      "execution_count": null,
      "outputs": [
        {
          "output_type": "stream",
          "name": "stdout",
          "text": [
            "Average MAE - train prediction:  2.039314265091163\n",
            "Average MAE - sorted_train prediction:  1.8759819010284147\n",
            "Average MAE - val_test prediction:  2.21082814391637\n",
            "Average MAE - sorted_val_test prediction:  2.137104371572619\n"
          ]
        }
      ]
    },
    {
      "cell_type": "markdown",
      "source": [
        "## Early stoping"
      ],
      "metadata": {
        "id": "2vIKEjyz5kpb"
      }
    },
    {
      "cell_type": "code",
      "source": [
        "X_train, y_train, X_val, y_val, X_test, y_test = train_val_test_split_fast(dataset)"
      ],
      "metadata": {
        "id": "tPk1poF7HMye"
      },
      "execution_count": null,
      "outputs": []
    },
    {
      "cell_type": "code",
      "source": [
        "from sklearn.preprocessing import StandardScaler\n",
        "sc = StandardScaler()\n",
        "X_train = sc.fit_transform(X_train)\n",
        "X_val = sc.transform(X_val)\n",
        "X_test = sc.transform(X_test)"
      ],
      "metadata": {
        "id": "dZdkqnqzHMyf"
      },
      "execution_count": null,
      "outputs": []
    },
    {
      "cell_type": "code",
      "source": [
        "import xgboost as xgb\n",
        "dtrain = xgb.DMatrix(X_train, label=y_train)\n",
        "dval = xgb.DMatrix(X_val, label=y_val)\n",
        "dtest = xgb.DMatrix(X_test, label=y_test)\n",
        "\n",
        "params = {\n",
        "    'objective': 'reg:squarederror',\n",
        "    'eval_metric': 'mae',\n",
        "    'eta': 0.1,\n",
        "    'max_depth': 7,\n",
        "    'min_child_weight': 50,\n",
        "    'subsample': 0.9,\n",
        "    'nthread': 4,\n",
        "}\n",
        "\n",
        "early_stopping_rounds = 40\n",
        "\n",
        "model = xgb.train(\n",
        "    params,\n",
        "    dtrain,\n",
        "    num_boost_round=1000,\n",
        "    evals=[(dtrain, 'train'), (dval, 'val')],\n",
        "    early_stopping_rounds=early_stopping_rounds,\n",
        "    verbose_eval=True\n",
        ")\n",
        "\n",
        "y_pred_train = model.predict(dtrain, iteration_range=(0, 100))\n",
        "y_pred_train_sorted = post_sorting(y_pred_train, 14)\n",
        "y_pred_val = model.predict(dval, iteration_range=(0, 100))\n",
        "y_pred_val_sorted = post_sorting(y_pred_val, 14)\n",
        "y_pred_test = model.predict(dtest, iteration_range=(0, 100))\n",
        "y_pred_test_sorted = post_sorting(y_pred_test, 14)\n",
        "\n",
        "from sklearn.metrics import mean_absolute_error\n",
        "print(\"train set\")\n",
        "mse_train = mean_absolute_error(y_train, y_pred_train)\n",
        "mse_train_sorted = mean_absolute_error(y_train, y_pred_train_sorted)\n",
        "print(\"pred: \", mse_train)\n",
        "print(\"sorted pred: \", mse_train_sorted)\n",
        "\n",
        "print(\"val set\")\n",
        "mse_val = mean_absolute_error(y_val, y_pred_val)\n",
        "mse_val_sorted = mean_absolute_error(y_val, y_pred_val_sorted)\n",
        "print(\"pred: \", mse_val)\n",
        "print(\"sorted pred: \", mse_val_sorted)\n",
        "\n",
        "print(\"test set\")\n",
        "mse_test = mean_absolute_error(y_test, y_pred_test)\n",
        "mse_test_sorted = mean_absolute_error(y_test, y_pred_test_sorted)\n",
        "print(\"pred: \", mse_test)\n",
        "print(\"sorted pred: \", mse_test_sorted)"
      ],
      "metadata": {
        "id": "uB2TBJN35ohK"
      },
      "execution_count": null,
      "outputs": []
    }
  ]
}