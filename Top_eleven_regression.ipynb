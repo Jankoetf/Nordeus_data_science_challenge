{
  "nbformat": 4,
  "nbformat_minor": 0,
  "metadata": {
    "colab": {
      "provenance": []
    },
    "kernelspec": {
      "name": "python3",
      "display_name": "Python 3"
    },
    "language_info": {
      "name": "python"
    }
  },
  "cells": [
    {
      "cell_type": "markdown",
      "source": [
        "# Imports"
      ],
      "metadata": {
        "id": "2ppXXg2CAr6N"
      }
    },
    {
      "cell_type": "code",
      "source": [
        "import numpy as np\n",
        "import matplotlib.pyplot as plt\n",
        "import pandas as pd\n",
        "import tensorflow as tf"
      ],
      "metadata": {
        "id": "ASXXRJFQeDqe"
      },
      "execution_count": 1,
      "outputs": []
    },
    {
      "cell_type": "code",
      "source": [
        "%%capture\n",
        "# this is github gist URL, there are all functions and imports I need to reuse often across many notebooks\n",
        "!wget -O package.py https://gist.githubusercontent.com/Jankoetf/c36cc24ddd83d4194148a86f87efd397/raw/adf1e7c72dfe8db685ad936f8882d42ac85ae5b7/package1.py\n",
        "import package"
      ],
      "metadata": {
        "id": "XAUA-KmIni5_"
      },
      "execution_count": 2,
      "outputs": []
    },
    {
      "cell_type": "code",
      "source": [
        "dataset = pd.read_csv('jobfair_train.csv')\n",
        "dataset = dataset.sort_values(by='league_id')\n",
        "dataset = package.basic_preprocessing(dataset)\n",
        "dataset = package.Feature_Selection(dataset)\n",
        "dataset = package.Averaging_by_leagues(dataset)\n",
        "print(dataset.shape)"
      ],
      "metadata": {
        "colab": {
          "base_uri": "https://localhost:8080/"
        },
        "id": "iTe7ibSOkpk6",
        "outputId": "228c9b2b-e740-4f97-b985-b13766d2ca63"
      },
      "execution_count": 3,
      "outputs": [
        {
          "output_type": "stream",
          "name": "stdout",
          "text": [
            "(55314, 18)\n"
          ]
        }
      ]
    },
    {
      "cell_type": "markdown",
      "source": [
        "# Evaluation - Regression"
      ],
      "metadata": {
        "id": "zEIiwk2lYIXO"
      }
    },
    {
      "cell_type": "markdown",
      "source": [
        "The Idea here is to make useful functions to manualy validate model performance"
      ],
      "metadata": {
        "id": "1pE_SQmUDkKV"
      }
    },
    {
      "cell_type": "code",
      "source": [
        "from sklearn.metrics import mean_absolute_error\n",
        "def evaluate_regressor(regressor, X_val_test, y_true, verbose = 1):\n",
        "    y_pred = regressor.predict(X_val_test)\n",
        "    y_pred_sorted = package.post_processing_1(y_pred)\n",
        "\n",
        "    mae_val_test = mean_absolute_error(y_true, y_pred)\n",
        "    mae_val_test_sorted = mean_absolute_error(y_true, y_pred_sorted)\n",
        "    if verbose:\n",
        "        print(f\"Mean Absolute Error - predictions: {mae_val_test}\")\n",
        "        print(f\"Mean Absolute Error - sorted prediction: {mae_val_test_sorted}\")\n",
        "    else:\n",
        "        return mae_val_test, mae_val_test_sorted"
      ],
      "metadata": {
        "id": "A8_aus72YQuP"
      },
      "execution_count": 4,
      "outputs": []
    },
    {
      "cell_type": "code",
      "source": [
        "from sklearn.preprocessing import StandardScaler\n",
        "from sklearn.preprocessing import PolynomialFeatures\n",
        "def regressor_average_evaluation(regressor, data, poly = 0, scaling = 1, verbose = 1):\n",
        "    sorted_average_val_test, average_val_test, average_train, sorted_average_train = 0,0,0,0\n",
        "\n",
        "    n = 5\n",
        "    for i in range(n):\n",
        "        X_train, y_train, X_val, y_val, X_test, y_test = package.train_val_test_split_adapted_shuffled(data)\n",
        "        if scaling:\n",
        "            sc = StandardScaler()\n",
        "            X_train = sc.fit_transform(X_train)\n",
        "            X_val = sc.transform(X_val)\n",
        "            X_test = sc.transform(X_test)\n",
        "\n",
        "        if poly:\n",
        "            polynomial = PolynomialFeatures(degree = 2)\n",
        "            X_train = polynomial.fit_transform(X_train)\n",
        "            X_val = polynomial.transform(X_val)\n",
        "            X_test = polynomial.transform(X_test)\n",
        "\n",
        "        regressor.fit(X_train, y_train)\n",
        "\n",
        "        temp_train, temp_train_sorted = evaluate_regressor(regressor, X_train, y_train, 0)\n",
        "        temp_val, temp_val_sorted = evaluate_regressor(regressor, X_val, y_val, 0)\n",
        "        temp_test, temp_test_sorted = evaluate_regressor(regressor, X_test, y_test, 0)\n",
        "\n",
        "        average_train += temp_train\n",
        "        sorted_average_train += temp_train_sorted\n",
        "        average_val_test = average_val_test + temp_val + temp_test\n",
        "        sorted_average_val_test = sorted_average_val_test + temp_val_sorted + temp_test_sorted\n",
        "\n",
        "    if verbose:\n",
        "        print(\"Average MAE - train prediction: \", average_train/n)\n",
        "        print(\"Average MAE - sorted_train prediction: \", sorted_average_train/n)\n",
        "        print(\"Average MAE - val_test prediction: \", average_val_test/n/2)\n",
        "        print(\"Average MAE - sorted_val_test prediction: \", sorted_average_val_test/2/n)\n",
        "    else:\n",
        "        return (average_train/10, sorted_average_train/10, average_val_test/20, sorted_average_val_test/20)\n"
      ],
      "metadata": {
        "id": "taMTtY5cZy4B"
      },
      "execution_count": 5,
      "outputs": []
    },
    {
      "cell_type": "markdown",
      "source": [
        "# Regresion - model selection"
      ],
      "metadata": {
        "id": "8p2nJM9JPW6t"
      }
    },
    {
      "cell_type": "markdown",
      "source": [
        "Finding what model works the best for task using custom shuffled train test split."
      ],
      "metadata": {
        "id": "ofuEMRsUl13b"
      }
    },
    {
      "cell_type": "code",
      "source": [
        "X_train, y_train, X_val, y_val, X_test, y_test = package.train_val_test_split_adapted_shuffled(dataset)"
      ],
      "metadata": {
        "id": "r5qMq0-Rs5vp"
      },
      "execution_count": null,
      "outputs": []
    },
    {
      "cell_type": "code",
      "source": [
        "from sklearn.preprocessing import StandardScaler\n",
        "sc = StandardScaler()\n",
        "X_train_scaled = sc.fit_transform(X_train)\n",
        "X_val_scaled = sc.transform(X_val)\n",
        "X_test_scaled = sc.transform(X_test)"
      ],
      "metadata": {
        "id": "XtF7OS10T9rz"
      },
      "execution_count": null,
      "outputs": []
    },
    {
      "cell_type": "markdown",
      "source": [
        "## Multiple linear"
      ],
      "metadata": {
        "id": "zPIj4DL4RmKc"
      }
    },
    {
      "cell_type": "code",
      "source": [
        "from sklearn.linear_model import LinearRegression\n",
        "l_regressor = LinearRegression()\n",
        "l_regressor.fit(X_train_scaled, y_train)"
      ],
      "metadata": {
        "id": "FtNFajALRrm8"
      },
      "execution_count": null,
      "outputs": []
    },
    {
      "cell_type": "code",
      "source": [
        "print(\"training set: \")\n",
        "evaluate_regressor(l_regressor, X_train_scaled, y_train)\n",
        "print(\"validation set: \")\n",
        "evaluate_regressor(l_regressor, X_val_scaled, y_val)\n",
        "print(\"test set: \")\n",
        "evaluate_regressor(l_regressor, X_test_scaled, y_test)"
      ],
      "metadata": {
        "colab": {
          "base_uri": "https://localhost:8080/"
        },
        "id": "FKzVGBLnZ-nX",
        "outputId": "d0225c91-5aa9-4bba-bf04-fdcd988d5c5e"
      },
      "execution_count": null,
      "outputs": [
        {
          "output_type": "stream",
          "name": "stdout",
          "text": [
            "training set: \n",
            "Mean Absolute Error - predictions: 2.254419323542679\n",
            "Mean Absolute Error - sorted prediction: 2.1691512877191177\n",
            "validation set: \n",
            "Mean Absolute Error - predictions: 2.285212251000148\n",
            "Mean Absolute Error - sorted prediction: 2.1963019250253293\n",
            "test set: \n",
            "Mean Absolute Error - predictions: 2.232712743813559\n",
            "Mean Absolute Error - sorted prediction: 2.150140977443609\n"
          ]
        }
      ]
    },
    {
      "cell_type": "code",
      "source": [
        "regressor_average_evaluation(LinearRegression(), dataset)"
      ],
      "metadata": {
        "colab": {
          "base_uri": "https://localhost:8080/"
        },
        "id": "y1y6DGPpgV3u",
        "outputId": "efb9cf01-629c-4c5e-b0c4-a8670e1a3593"
      },
      "execution_count": null,
      "outputs": [
        {
          "output_type": "stream",
          "name": "stdout",
          "text": [
            "Average MAE - train prediction:  2.257398917199077\n",
            "Average MAE - sorted_train prediction:  2.1729532661633737\n",
            "Average MAE - val_test prediction:  2.2572779246148857\n",
            "Average MAE - sorted_val_test prediction:  2.1715762099532667\n"
          ]
        }
      ]
    },
    {
      "cell_type": "markdown",
      "source": [
        "## Polynomial"
      ],
      "metadata": {
        "id": "lE0Y0YjmRryF"
      }
    },
    {
      "cell_type": "code",
      "source": [
        "from sklearn.preprocessing import PolynomialFeatures\n",
        "poly = PolynomialFeatures(degree = 2)\n",
        "X_train_polynomial = poly.fit_transform(X_train_scaled)\n",
        "p_regressor = LinearRegression()\n",
        "p_regressor.fit(X_train_polynomial, y_train)"
      ],
      "metadata": {
        "id": "UcrexRTaRuLM"
      },
      "execution_count": null,
      "outputs": []
    },
    {
      "cell_type": "code",
      "source": [
        "print(\"training set: \")\n",
        "evaluate_regressor(p_regressor, poly.transform(X_train_scaled), y_train)\n",
        "print(\"validation set: \")\n",
        "evaluate_regressor(p_regressor, poly.transform(X_val_scaled), y_val)\n",
        "print(\"test set: \")\n",
        "evaluate_regressor(p_regressor, poly.transform(X_test_scaled), y_test)"
      ],
      "metadata": {
        "colab": {
          "base_uri": "https://localhost:8080/"
        },
        "id": "7Ll19nqtW-Xr",
        "outputId": "7466f029-f97c-448c-eb14-6328fa56530d"
      },
      "execution_count": null,
      "outputs": [
        {
          "output_type": "stream",
          "name": "stdout",
          "text": [
            "training set: \n",
            "Mean Absolute Error - predictions: 2.0151664615418516\n",
            "Mean Absolute Error - sorted prediction: 1.977329974811083\n",
            "validation set: \n",
            "Mean Absolute Error - predictions: 2.058279489042955\n",
            "Mean Absolute Error - sorted prediction: 2.019756838905775\n",
            "test set: \n",
            "Mean Absolute Error - predictions: 1.9979731927489413\n",
            "Mean Absolute Error - sorted prediction: 1.9544172932330828\n"
          ]
        }
      ]
    },
    {
      "cell_type": "code",
      "source": [
        "regressor_average_evaluation(LinearRegression(), dataset, poly = 1)"
      ],
      "metadata": {
        "colab": {
          "base_uri": "https://localhost:8080/"
        },
        "id": "WGkarTGElsLu",
        "outputId": "7a478065-3890-4fb8-f745-3212e228148a"
      },
      "execution_count": null,
      "outputs": [
        {
          "output_type": "stream",
          "name": "stdout",
          "text": [
            "Average MAE - train prediction:  2.0159452474862265\n",
            "Average MAE - sorted_train prediction:  1.9777892122162357\n",
            "Average MAE - val_test prediction:  2.0303246022449573\n",
            "Average MAE - sorted_val_test prediction:  1.9908139799721059\n"
          ]
        }
      ]
    },
    {
      "cell_type": "markdown",
      "source": [
        "## SVR"
      ],
      "metadata": {
        "id": "zgRsYQdnRuTc"
      }
    },
    {
      "cell_type": "code",
      "source": [
        "from sklearn.svm import SVR\n",
        "regressor_svr = SVR(kernel = 'rbf')\n",
        "regressor_svr.fit(X_train_scaled, y_train)"
      ],
      "metadata": {
        "id": "pq9mdIJqRxPr"
      },
      "execution_count": null,
      "outputs": []
    },
    {
      "cell_type": "code",
      "source": [
        "print(\"training set: \")\n",
        "evaluate_regressor(regressor_svr, X_train_scaled, y_train)\n",
        "print(\"validation set: \")\n",
        "evaluate_regressor(regressor_svr, X_val_scaled, y_val)\n",
        "print(\"test set: \")\n",
        "evaluate_regressor(regressor_svr, X_test_scaled, y_test)"
      ],
      "metadata": {
        "colab": {
          "base_uri": "https://localhost:8080/"
        },
        "id": "T1WbiwvKRxSc",
        "outputId": "43d97b45-6123-4e14-a617-0199a01f2e35"
      },
      "execution_count": null,
      "outputs": [
        {
          "output_type": "stream",
          "name": "stdout",
          "text": [
            "training set: \n",
            "Mean Absolute Error - predictions: 1.873715656116285\n",
            "Mean Absolute Error - sorted prediction: 1.855523569629363\n",
            "validation set: \n",
            "Mean Absolute Error - predictions: 1.9746886022115688\n",
            "Mean Absolute Error - sorted prediction: 1.9550405268490374\n",
            "test set: \n",
            "Mean Absolute Error - predictions: 1.9032316446210489\n",
            "Mean Absolute Error - sorted prediction: 1.8910949248120301\n"
          ]
        }
      ]
    },
    {
      "cell_type": "code",
      "source": [
        "regressor_average_evaluation(SVR(kernel = 'rbf'), dataset)"
      ],
      "metadata": {
        "colab": {
          "base_uri": "https://localhost:8080/"
        },
        "id": "CVLvDSTewUt4",
        "outputId": "d95546a9-590c-4144-d92d-7f9bf03808a4"
      },
      "execution_count": null,
      "outputs": [
        {
          "output_type": "stream",
          "name": "stdout",
          "text": [
            "Average MAE - train prediction:  1.877584328645657\n",
            "Average MAE - sorted_train prediction:  1.8584393106813875\n",
            "Average MAE - val_test prediction:  1.9332973221882994\n",
            "Average MAE - sorted_val_test prediction:  1.91669004130456\n"
          ]
        }
      ]
    },
    {
      "cell_type": "markdown",
      "source": [
        "## Desition Tree"
      ],
      "metadata": {
        "id": "eiSG22IsRxZk"
      }
    },
    {
      "cell_type": "code",
      "source": [
        "from sklearn.tree import DecisionTreeRegressor\n",
        "tree_regressor = DecisionTreeRegressor()\n",
        "tree_regressor.fit(X_train_scaled, y_train)"
      ],
      "metadata": {
        "id": "d0kuC5eQR1ys"
      },
      "execution_count": null,
      "outputs": []
    },
    {
      "cell_type": "code",
      "source": [
        "print(\"training set: \")\n",
        "evaluate_regressor(tree_regressor, X_train_scaled, y_train)\n",
        "print(\"validation set: \")\n",
        "evaluate_regressor(tree_regressor, X_val_scaled, y_val)\n",
        "print(\"test set: \")\n",
        "evaluate_regressor(tree_regressor, X_test_scaled, y_test)"
      ],
      "metadata": {
        "colab": {
          "base_uri": "https://localhost:8080/"
        },
        "id": "_L-Gpp1ZR11T",
        "outputId": "eac5a287-4aeb-4b58-fa81-9d22d8498476"
      },
      "execution_count": null,
      "outputs": [
        {
          "output_type": "stream",
          "name": "stdout",
          "text": [
            "training set: \n",
            "Mean Absolute Error - predictions: 0.0\n",
            "Mean Absolute Error - sorted prediction: 0.0\n",
            "validation set: \n",
            "Mean Absolute Error - predictions: 2.685030395136778\n",
            "Mean Absolute Error - sorted prediction: 2.685030395136778\n",
            "test set: \n",
            "Mean Absolute Error - predictions: 2.686795112781955\n",
            "Mean Absolute Error - sorted prediction: 2.686795112781955\n"
          ]
        }
      ]
    },
    {
      "cell_type": "markdown",
      "source": [
        "## Random Forest"
      ],
      "metadata": {
        "id": "7cVOIs1JR16c"
      }
    },
    {
      "cell_type": "code",
      "source": [
        "from sklearn.ensemble import RandomForestRegressor\n",
        "forest_regressor = RandomForestRegressor()\n",
        "forest_regressor.fit(X_train_scaled, y_train)"
      ],
      "metadata": {
        "id": "Aqh0-g-jR5r7"
      },
      "execution_count": null,
      "outputs": []
    },
    {
      "cell_type": "code",
      "source": [
        "print(\"training set: \")\n",
        "evaluate_regressor(forest_regressor, X_train_scaled, y_train)\n",
        "print(\"validation set: \")\n",
        "evaluate_regressor(forest_regressor, X_val_scaled, y_val)\n",
        "print(\"test set: \")\n",
        "evaluate_regressor(forest_regressor, X_test_scaled, y_test)"
      ],
      "metadata": {
        "colab": {
          "base_uri": "https://localhost:8080/"
        },
        "id": "SrCvaZj4R5uF",
        "outputId": "5d7db192-ab98-4445-b22d-be166d496779"
      },
      "execution_count": null,
      "outputs": [
        {
          "output_type": "stream",
          "name": "stdout",
          "text": [
            "training set: \n",
            "Mean Absolute Error - predictions: 0.7216041227574153\n",
            "Mean Absolute Error - sorted prediction: 0.6792011514933429\n",
            "validation set: \n",
            "Mean Absolute Error - predictions: 1.987359422492401\n",
            "Mean Absolute Error - sorted prediction: 1.9769503546099292\n",
            "test set: \n",
            "Mean Absolute Error - predictions: 1.9281379229323306\n",
            "Mean Absolute Error - sorted prediction: 1.9185855263157894\n"
          ]
        }
      ]
    },
    {
      "cell_type": "code",
      "source": [
        "regressor_average_evaluation(RandomForestRegressor(), dataset)"
      ],
      "metadata": {
        "colab": {
          "base_uri": "https://localhost:8080/"
        },
        "id": "W7JvGGT4_Mto",
        "outputId": "ad233c90-03ae-4128-ae26-99557f060e65"
      },
      "execution_count": null,
      "outputs": [
        {
          "output_type": "stream",
          "name": "stdout",
          "text": [
            "Average MAE - train prediction:  0.7247359513359279\n",
            "Average MAE - sorted_train prediction:  0.6838166524611686\n",
            "Average MAE - val_test prediction:  1.945489843355265\n",
            "Average MAE - sorted_val_test prediction:  1.9318089785875892\n"
          ]
        }
      ]
    },
    {
      "cell_type": "markdown",
      "source": [
        "## XG-BOOST"
      ],
      "metadata": {
        "id": "EU3NlDxdQ4T1"
      }
    },
    {
      "cell_type": "code",
      "source": [
        "from xgboost import XGBRegressor\n",
        "xg_regressor = XGBRegressor()\n",
        "xg_regressor.fit(X_train_scaled, y_train)"
      ],
      "metadata": {
        "id": "H8UiQt6mQ7U7"
      },
      "execution_count": null,
      "outputs": []
    },
    {
      "cell_type": "code",
      "source": [
        "print(\"training set: \")\n",
        "evaluate_regressor(xg_regressor, X_train_scaled, y_train)\n",
        "print(\"validation set: \")\n",
        "evaluate_regressor(xg_regressor, X_val_scaled, y_val)\n",
        "print(\"test set: \")\n",
        "evaluate_regressor(xg_regressor, X_test_scaled, y_test)"
      ],
      "metadata": {
        "colab": {
          "base_uri": "https://localhost:8080/"
        },
        "id": "Rpxk1MbUS-hN",
        "outputId": "7f1137de-e685-4fec-d31e-a38cf4910394"
      },
      "execution_count": null,
      "outputs": [
        {
          "output_type": "stream",
          "name": "stdout",
          "text": [
            "training set: \n",
            "Mean Absolute Error - predictions: 1.5337094390250745\n",
            "Mean Absolute Error - sorted prediction: 1.5139567161877345\n",
            "validation set: \n",
            "Mean Absolute Error - predictions: 1.9980690440690483\n",
            "Mean Absolute Error - sorted prediction: 1.9829027355623101\n",
            "test set: \n",
            "Mean Absolute Error - predictions: 1.9334708683409805\n",
            "Mean Absolute Error - sorted prediction: 1.916000939849624\n"
          ]
        }
      ]
    },
    {
      "cell_type": "code",
      "source": [
        "regressor_average_evaluation(XGBRegressor(), dataset)"
      ],
      "metadata": {
        "colab": {
          "base_uri": "https://localhost:8080/"
        },
        "outputId": "76953461-0e87-4432-ab8d-8f96897ba62d",
        "id": "ebIJ39U0S-hO"
      },
      "execution_count": null,
      "outputs": [
        {
          "output_type": "stream",
          "name": "stdout",
          "text": [
            "Average MAE - train prediction:  1.5316672278955892\n",
            "Average MAE - sorted_train prediction:  1.5095649449541642\n",
            "Average MAE - val_test prediction:  1.9708875848172311\n",
            "Average MAE - sorted_val_test prediction:  1.9531737101420652\n"
          ]
        }
      ]
    },
    {
      "cell_type": "code",
      "source": [
        "feature_importances = xg_regressor.feature_importances_\n",
        "column_names = dataset.columns.tolist()\n",
        "column_names.remove('league_rank')\n",
        "feature_importance_df = pd.DataFrame({'Feature': column_names, 'Importance': feature_importances})\n",
        "feature_importance_df = feature_importance_df.sort_values('Importance', ascending=False)\n",
        "\n",
        "print(feature_importance_df)"
      ],
      "metadata": {
        "colab": {
          "base_uri": "https://localhost:8080/"
        },
        "id": "izQVvzs8Rit5",
        "outputId": "8ba24b3a-b597-4cbc-a887-4f704b2458fa"
      },
      "execution_count": null,
      "outputs": [
        {
          "output_type": "stream",
          "name": "stdout",
          "text": [
            "                                             Feature  Importance\n",
            "4                  averaged_avg_stars_top_11_players    0.481538\n",
            "8                averaged_session_count_last_28_days    0.160129\n",
            "9                     averaged_playtime_last_28_days    0.051086\n",
            "10      averaged_league_match_won_count_last_28_days    0.043594\n",
            "6                  averaged_days_active_last_28_days    0.034618\n",
            "11              averaged_training_count_last_28_days    0.030511\n",
            "13                averaged_tokens_spent_last_28_days    0.027585\n",
            "0                                          league_id    0.025943\n",
            "12                 averaged_global_competition_level    0.023918\n",
            "3                    averaged_avg_age_top_11_players    0.018592\n",
            "2                   averaged_dynamic_payment_segment    0.017873\n",
            "5        averaged_avg_training_factor_top_11_players    0.016951\n",
            "1                                   averaged_club_id    0.016572\n",
            "16                    averaged_morale_boosters_stash    0.013321\n",
            "14                             averaged_tokens_stash    0.013041\n",
            "15                              averaged_rests_stash    0.012720\n",
            "7   averaged_league_match_watched_count_last_28_days    0.012007\n"
          ]
        }
      ]
    },
    {
      "cell_type": "markdown",
      "source": [
        "So we see that **SVR** model works the best here.\n",
        "Next is hyperparameter tunning for it."
      ],
      "metadata": {
        "id": "gWG2vcNDCu9p"
      }
    },
    {
      "cell_type": "markdown",
      "source": [
        "# HyperParameter tunning - SVR Regessor"
      ],
      "metadata": {
        "id": "6hTeCFpRtGKZ"
      }
    },
    {
      "cell_type": "code",
      "source": [
        "dataset = pd.read_csv('jobfair_train.csv')\n",
        "dataset = dataset.sort_values(by='league_id')\n",
        "dataset = package.basic_preprocessing(dataset)\n",
        "dataset = package.Feature_Selection(dataset)\n",
        "dataset = package.Averaging_by_leagues(dataset)\n",
        "print(dataset.shape)"
      ],
      "metadata": {
        "colab": {
          "base_uri": "https://localhost:8080/"
        },
        "id": "73EZc6CJfpc2",
        "outputId": "75769267-dae8-47ed-884a-7f22fba02041"
      },
      "execution_count": 6,
      "outputs": [
        {
          "output_type": "stream",
          "name": "stdout",
          "text": [
            "(55314, 18)\n"
          ]
        }
      ]
    },
    {
      "cell_type": "code",
      "source": [
        "X_train, y_train, X_val, y_val, X_test, y_test = package.train_val_test_split_adapted_shuffled(dataset)"
      ],
      "metadata": {
        "id": "D2JcmQzYfiUE"
      },
      "execution_count": 7,
      "outputs": []
    },
    {
      "cell_type": "code",
      "source": [
        "from sklearn.preprocessing import StandardScaler\n",
        "sc = StandardScaler()\n",
        "X_train_scaled = sc.fit_transform(X_train)\n",
        "X_val_scaled = sc.transform(X_val)\n",
        "X_test_scaled = sc.transform(X_test)"
      ],
      "metadata": {
        "id": "dMmJIa1lfiUE"
      },
      "execution_count": 8,
      "outputs": []
    },
    {
      "cell_type": "markdown",
      "source": [
        "## Tuning C, epsilon"
      ],
      "metadata": {
        "id": "ECPiTHGgnvEg"
      }
    },
    {
      "cell_type": "code",
      "source": [
        "C_values = [0.5, 1, 2]\n",
        "epsilon_values = [0.005, 0.01, 0.05]\n",
        "\n",
        "from sklearn.svm import SVR\n",
        "params2 = {}\n",
        "params_processed2 = {}\n",
        "for c in C_values:\n",
        "    for e in epsilon_values:\n",
        "        model = SVR(kernel = 'rbf', epsilon = e, C = c, gamma = 0.05)\n",
        "        model.fit(X_train_scaled, y_train)\n",
        "        t_val, t_val_sorted = evaluate_regressor(model, X_val_scaled, y_val, 0)\n",
        "        t_test, t_test_sorted = evaluate_regressor(model, X_test_scaled, y_test, 0)\n",
        "        params2[(c, e)] =  (t_val + t_test)/2\n",
        "        params_processed2[(c, e)] =  (t_val_sorted + t_test_sorted)/2\n",
        "params2 = dict(sorted(params2.items(), key=lambda item: item[1], reverse=False))\n",
        "params_processed2 = dict(sorted(params_processed2.items(), key=lambda item: item[1], reverse=False))"
      ],
      "metadata": {
        "id": "gjw5zWWdR2-n"
      },
      "execution_count": 21,
      "outputs": []
    },
    {
      "cell_type": "code",
      "source": [
        "print(list(params2.keys())[:3])\n",
        "print(list(params2.values())[:3])\n",
        "print(list(params_processed2.keys())[:3])\n",
        "print(list(params_processed2.values())[:3])"
      ],
      "metadata": {
        "id": "wWi30YYyJnRv",
        "colab": {
          "base_uri": "https://localhost:8080/"
        },
        "outputId": "0fb5f356-c520-431f-c826-0e1af2b8fb51"
      },
      "execution_count": 22,
      "outputs": [
        {
          "output_type": "stream",
          "name": "stdout",
          "text": [
            "[(2, 0.05), (2, 0.01), (2, 0.005)]\n",
            "[1.9066949010115202, 1.9068747502939614, 1.9068949778943196]\n",
            "[(2, 0.05), (2, 0.01), (2, 0.005)]\n",
            "[1.8885044856481632, 1.8887478880953625, 1.889285962866937]\n"
          ]
        }
      ]
    },
    {
      "cell_type": "markdown",
      "source": [
        "## Tuning gamma"
      ],
      "metadata": {
        "id": "UGk9GHNmnnZR"
      }
    },
    {
      "cell_type": "code",
      "source": [
        "gamma_values = [0.001, 0.01, 0.05, 0.1, 0.5, 1, 2, 4, 8]\n",
        "params = {}\n",
        "params_processed = {}\n",
        "for g in gamma_values:\n",
        "    model = SVR(kernel = 'rbf', gamma = g, epsilon = 0.01)\n",
        "    model.fit(X_train_scaled, y_train)\n",
        "    t_val, t_val_sorted = evaluate_regressor(model, X_val_scaled, y_val, 0)\n",
        "    t_test, t_test_sorted = evaluate_regressor(model, X_test_scaled, y_test, 0)\n",
        "    params[(g)] =  (t_val + t_test)/2\n",
        "    params_processed[(g)] =  (t_val_sorted + t_test_sorted)/2\n",
        "\n",
        "params = dict(sorted(params.items(), key=lambda item: item[1], reverse=False))\n",
        "params_processed = dict(sorted(params_processed.items(), key=lambda item: item[1], reverse=False))"
      ],
      "metadata": {
        "id": "PDY09wlS3Ce_"
      },
      "execution_count": 18,
      "outputs": []
    },
    {
      "cell_type": "code",
      "source": [
        "print(list(params.keys())[:3])\n",
        "print(list(params.values())[:3])\n",
        "print(list(params_processed.keys())[:3])\n",
        "print(list(params_processed.values())[:3])"
      ],
      "metadata": {
        "id": "QYElCMSGPHDy",
        "colab": {
          "base_uri": "https://localhost:8080/"
        },
        "outputId": "300b80e8-2149-46e1-f9a9-36fa445f174c"
      },
      "execution_count": 20,
      "outputs": [
        {
          "output_type": "stream",
          "name": "stdout",
          "text": [
            "[0.05, 0.1, 0.01]\n",
            "[1.9127166225389458, 1.9267398010642358, 1.9447367817044636]\n",
            "[0.05, 0.1, 0.01]\n",
            "[1.8978793121591848, 1.9107389366855339, 1.9229617789798061]\n"
          ]
        }
      ]
    },
    {
      "cell_type": "code",
      "source": [
        "regressor_average_evaluation(SVR(kernel = 'rbf', gamma = 0.05, epsilon = 0.05, C = 2), dataset)"
      ],
      "metadata": {
        "colab": {
          "base_uri": "https://localhost:8080/"
        },
        "id": "2IK6ejYIERE4",
        "outputId": "cbd00081-9978-47fa-9945-358740ffb4a6"
      },
      "execution_count": 23,
      "outputs": [
        {
          "output_type": "stream",
          "name": "stdout",
          "text": [
            "Average MAE - train prediction:  1.8488576828024281\n",
            "Average MAE - sorted_train prediction:  1.830485603353841\n",
            "Average MAE - val_test prediction:  1.9378559862133664\n",
            "Average MAE - sorted_val_test prediction:  1.9213776125839939\n"
          ]
        }
      ]
    },
    {
      "cell_type": "code",
      "source": [
        "regressor_average_evaluation(SVR(kernel = 'rbf', gamma = 0.05, epsilon = 0.1, C = 0.5), dataset)"
      ],
      "metadata": {
        "colab": {
          "base_uri": "https://localhost:8080/"
        },
        "id": "ddxI_wz9r5D3",
        "outputId": "dd8ddc16-d62a-47a2-fd49-2fa781994e85"
      },
      "execution_count": 24,
      "outputs": [
        {
          "output_type": "stream",
          "name": "stdout",
          "text": [
            "Average MAE - train prediction:  1.9162851725586356\n",
            "Average MAE - sorted_train prediction:  1.899497357167784\n",
            "Average MAE - val_test prediction:  1.9480075254326839\n",
            "Average MAE - sorted_val_test prediction:  1.9323394014269084\n"
          ]
        }
      ]
    },
    {
      "cell_type": "code",
      "source": [
        "regressor_average_evaluation(SVR(kernel = 'rbf', gamma = 0.05, epsilon = 0.15, C = 0.3), dataset)"
      ],
      "metadata": {
        "colab": {
          "base_uri": "https://localhost:8080/"
        },
        "id": "nPXCxS2pr5yW",
        "outputId": "5938d2d6-cfb1-4719-d32c-e4639ad88777"
      },
      "execution_count": 26,
      "outputs": [
        {
          "output_type": "stream",
          "name": "stdout",
          "text": [
            "Average MAE - train prediction:  1.9415367039639904\n",
            "Average MAE - sorted_train prediction:  1.924877506704838\n",
            "Average MAE - val_test prediction:  1.9528483088623705\n",
            "Average MAE - sorted_val_test prediction:  1.936295166949586\n"
          ]
        }
      ]
    },
    {
      "cell_type": "markdown",
      "source": [
        "This way MAE is oround 1.93"
      ],
      "metadata": {
        "id": "a6v4lrFy6vdO"
      }
    }
  ]
}